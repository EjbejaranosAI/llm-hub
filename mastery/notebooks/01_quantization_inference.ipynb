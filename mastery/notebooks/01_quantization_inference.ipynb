{
  "cells": [
    {
      "cell_type": "markdown",
      "metadata": {},
      "source": "# 01 · Cuantización y Optimización de Inferencia\n\n**Objetivo:** cuantizar un modelo (ej. LLaMA/Mistral) y comparar memoria/latencia antes y después.\n\n**Prerequisitos:** Python 3.11+, GPU opcional, drivers/CUDA si aplica.\n\n**Índice:**\n1. Setup\n2. Carga de modelo base\n3. Cuantización (bitsandbytes / AutoGPTQ)\n4. Métricas (memoria/latencia)\n5. Conclusiones"
    },
    {
      "cell_type": "markdown",
      "metadata": {},
      "source": "## 1. Setup"
    },
    {
      "cell_type": "code",
      "metadata": {},
      "outputs": [],
      "execution_count": null,
      "source": "# (Opcional) Instalaciones rápidas\n# !pip install torch transformers accelerate bitsandbytes auto-gptq tiktoken\n\nimport os, time\nfrom contextlib import contextmanager\n\n@contextmanager\ndef timer(msg=\"Tiempo\"):\n    t0 = time.time()\n    yield\n    print(f\"{msg}: {time.time()-t0:.3f}s\")\n\ntry:\n    import torch\nexcept Exception as e:\n    print(\"Aviso: torch no está instalado en este entorno.\")\n"
    },
    {
      "cell_type": "markdown",
      "metadata": {},
      "source": "## 2. Carga de modelo base"
    },
    {
      "cell_type": "code",
      "metadata": {},
      "outputs": [],
      "execution_count": null,
      "source": "# TODO: reemplaza por el checkpoint que usarás (pe. 'meta-llama/Llama-2-7b-hf' o 'mistralai/Mistral-7B-Instruct')\nMODEL_NAME = \"<modelo-base>\"\nDEVICE = \"cuda\" if 'torch' in globals() and torch.cuda.is_available() else \"cpu\"\nprint(\"Device:\", DEVICE)\n\n# from transformers import AutoModelForCausalLM, AutoTokenizer\n# tok = AutoTokenizer.from_pretrained(MODEL_NAME, use_fast=True)\n# model = AutoModelForCausalLM.from_pretrained(MODEL_NAME, device_map=\"auto\")\n"
    },
    {
      "cell_type": "markdown",
      "metadata": {},
      "source": "## 3. Cuantización"
    },
    {
      "cell_type": "code",
      "metadata": {},
      "outputs": [],
      "execution_count": null,
      "source": "# Opción A: int8/int4 con bitsandbytes (GPU)\n# model_8bit = AutoModelForCausalLM.from_pretrained(\n#     MODEL_NAME,\n#     load_in_8bit=True,\n#     device_map=\"auto\"\n# )\n\n# Opción B: AutoGPTQ (requiere preparar el modelo cuantizado)\n# from auto_gptq import AutoGPTQForCausalLM\n# model_gptq = AutoGPTQForCausalLM.from_quantized(MODEL_NAME, device_map=\"auto\")\n"
    },
    {
      "cell_type": "markdown",
      "metadata": {},
      "source": "## 4. Métricas (memoria/latencia)"
    },
    {
      "cell_type": "code",
      "metadata": {},
      "outputs": [],
      "execution_count": null,
      "source": "def generate_prompt(q: str) -> str:\n    return f\"Usuario: {q}\\nAsistente:\"\n\nTEST_PROMPT = \"Explica la cuantización en 3 frases.\"\n\n# def run_inference(model, tok, prompt, max_new_tokens=64):\n#     inputs = tok(prompt, return_tensors=\"pt\").to(model.device)\n#     with timer(\"latencia\"):\n#         outputs = model.generate(**inputs, max_new_tokens=max_new_tokens)\n#     print(tok.decode(outputs[0], skip_special_tokens=True))\n\n# Medición de memoria (si hay CUDA)\nif 'torch' in globals() and torch.cuda.is_available():\n    mem = torch.cuda.memory_allocated() / (1024**2)\n    print(f\"Memoria GPU usada (MB): {mem:.2f}\")\nelse:\n    print(\"CUDA no disponible. Reporta memoria/tiempos en CPU o deja como TODO.\")\n"
    },
    {
      "cell_type": "markdown",
      "metadata": {},
      "source": "## 5. Conclusiones\n- Resume mejoras de memoria/latencia.\n- Anota trade-offs observados (precisión vs. velocidad)."
    }
  ],
  "metadata": {
    "kernelspec": {
      "name": "python3",
      "display_name": "Python 3"
    },
    "language_info": {
      "name": "python",
      "pygments_lexer": "ipython3"
    }
  },
  "nbformat": 4,
  "nbformat_minor": 5
}