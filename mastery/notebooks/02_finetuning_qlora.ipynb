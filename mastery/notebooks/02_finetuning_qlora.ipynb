{
  "cells": [
    {
      "cell_type": "markdown",
      "metadata": {
        "id": "-NJz37ub8doG"
      },
      "source": [
        "# 02 · Fine-tuning Eficiente con QLoRA\n",
        "\n",
        "**Objetivo:** entrenar con QLoRA sobre un dataset pequeño (ej. Alpaca subset) y evaluar pérdidas.\n",
        "\n",
        "Este notebook muestra, de forma práctica, **cómo reducir memoria y coste de inferencia** en LLMs con cuantización, y cómo hacer **fine-tuning eficiente** con **QLoRA**.\n",
        "\n",
        "- **Parte A — Cuantización con bitsandbytes (8-bit / 4-bit)**  \n",
        "Cargamos el mismo modelo en **8-bit (LLM.int8)** y **4-bit (NF4)** usando la API moderna de Transformers (pasando un `BitsAndBytesConfig` en `quantization_config`). Medimos **pico de VRAM**, **tiempo por generación** y **tokens/seg** para comparar. (Transformers documenta que 8-bit suele **reducir la memoria a la mitad**; 4-bit ahorra aún más).\n",
        "\n",
        "- **Parte B — Fine-tuning con QLoRA (4-bit + LoRA)**  \n",
        "Entrenamos **solo adapters** (LoRA) encima de un **modelo base cuantizado a 4-bit (NF4)**. QLoRA añade **double quantization** y **paged optimizers** para que el entrenamiento **quepa en una sola GPU** manteniendo calidad cercana a 16-bit en benchmarks (llegando hasta 65B en 48GB en el paper). Implementamos el flujo con **Transformers + PEFT + TRL (SFTTrainer)**.\n"
      ],
      "id": "-NJz37ub8doG"
    },
    {
      "cell_type": "markdown",
      "metadata": {
        "id": "qJ4BrV038doJ"
      },
      "source": [
        "## 1. Setup"
      ],
      "id": "qJ4BrV038doJ"
    },
    {
      "cell_type": "code",
      "metadata": {
        "colab": {
          "base_uri": "https://localhost:8080/"
        },
        "id": "cg9Ntfm68doJ",
        "outputId": "b50ea321-22d6-4558-fa02-22fc968424f9"
      },
      "outputs": [
        {
          "output_type": "stream",
          "name": "stdout",
          "text": [
            "\u001b[2K     \u001b[90m━━━━━━━━━━━━━━━━━━━━━━━━━━━━━━━━━━━━━━━━\u001b[0m \u001b[32m40.1/40.1 kB\u001b[0m \u001b[31m2.3 MB/s\u001b[0m eta \u001b[36m0:00:00\u001b[0m\n",
            "\u001b[2K   \u001b[90m━━━━━━━━━━━━━━━━━━━━━━━━━━━━━━━━━━━━━━━━\u001b[0m \u001b[32m11.6/11.6 MB\u001b[0m \u001b[31m35.8 MB/s\u001b[0m eta \u001b[36m0:00:00\u001b[0m\n",
            "\u001b[2K   \u001b[90m━━━━━━━━━━━━━━━━━━━━━━━━━━━━━━━━━━━━━━━━\u001b[0m \u001b[32m503.6/503.6 kB\u001b[0m \u001b[31m23.0 MB/s\u001b[0m eta \u001b[36m0:00:00\u001b[0m\n",
            "\u001b[2K   \u001b[90m━━━━━━━━━━━━━━━━━━━━━━━━━━━━━━━━━━━━━━━━\u001b[0m \u001b[32m61.3/61.3 MB\u001b[0m \u001b[31m11.9 MB/s\u001b[0m eta \u001b[36m0:00:00\u001b[0m\n",
            "\u001b[2K   \u001b[90m━━━━━━━━━━━━━━━━━━━━━━━━━━━━━━━━━━━━━━━━\u001b[0m \u001b[32m564.7/564.7 kB\u001b[0m \u001b[31m11.4 MB/s\u001b[0m eta \u001b[36m0:00:00\u001b[0m\n",
            "\u001b[2K   \u001b[90m━━━━━━━━━━━━━━━━━━━━━━━━━━━━━━━━━━━━━━━━\u001b[0m \u001b[32m42.8/42.8 MB\u001b[0m \u001b[31m11.5 MB/s\u001b[0m eta \u001b[36m0:00:00\u001b[0m\n",
            "\u001b[?25h\u001b[31mERROR: pip's dependency resolver does not currently take into account all the packages that are installed. This behaviour is the source of the following dependency conflicts.\n",
            "cudf-cu12 25.6.0 requires pyarrow<20.0.0a0,>=14.0.0; platform_machine == \"x86_64\", but you have pyarrow 21.0.0 which is incompatible.\n",
            "pylibcudf-cu12 25.6.0 requires pyarrow<20.0.0a0,>=14.0.0; platform_machine == \"x86_64\", but you have pyarrow 21.0.0 which is incompatible.\u001b[0m\u001b[31m\n",
            "\u001b[0m"
          ]
        }
      ],
      "execution_count": 1,
      "source": [
        "!pip -q install -U transformers datasets peft bitsandbytes accelerate trl\n",
        "\n"
      ],
      "id": "cg9Ntfm68doJ"
    },
    {
      "cell_type": "code",
      "source": [
        "def gpu_peak_gb():\n",
        "    if not torch.cuda.is_available(): return 0.0\n",
        "    torch.cuda.synchronize()\n",
        "    return torch.cuda.max_memory_allocated() / (1024**3)\n",
        "\n",
        "def gen_and_bench(model, tok, prompt, max_new=64, runs=3):\n",
        "    device = next(model.parameters()).device\n",
        "    inputs = tok(prompt, return_tensors=\"pt\").to(device)\n",
        "    with torch.inference_mode():\n",
        "        _ = model.generate(**inputs, max_new_tokens=8)  # warmup\n",
        "    if torch.cuda.is_available():\n",
        "        torch.cuda.reset_peak_memory_stats(device)\n",
        "    total_gen_tokens = 0\n",
        "    t0 = time.perf_counter()\n",
        "    with torch.inference_mode():\n",
        "        for _ in range(runs):\n",
        "            out = model.generate(**inputs, max_new_tokens=max_new)\n",
        "            total_gen_tokens += out.shape[-1] - inputs[\"input_ids\"].shape[-1]\n",
        "    t1 = time.perf_counter()\n",
        "    sec = (t1 - t0) / runs\n",
        "    tps = (total_gen_tokens / runs) / sec if sec > 0 else float(\"nan\")\n",
        "    return sec, tps, gpu_peak_gb()\n"
      ],
      "metadata": {
        "id": "zP3kmz6oO5JU"
      },
      "id": "zP3kmz6oO5JU",
      "execution_count": 15,
      "outputs": []
    },
    {
      "cell_type": "markdown",
      "metadata": {
        "id": "NWCpJzsx8doK"
      },
      "source": [
        "## 2. Importes y configuraciones\n"
      ],
      "id": "NWCpJzsx8doK"
    },
    {
      "cell_type": "code",
      "metadata": {
        "id": "pAKrHuxJ8doK"
      },
      "outputs": [],
      "execution_count": 1,
      "source": [
        "import torch, os\n",
        "from datasets import load_dataset\n",
        "from transformers import AutoModelForCausalLM, AutoTokenizer, BitsAndBytesConfig\n",
        "from peft import LoraConfig, get_peft_model, prepare_model_for_kbit_training\n",
        "from trl import SFTTrainer, SFTConfig\n",
        "\n",
        "# Modelo pequeño y abierto para demo (cámbialo por tu preferido si quieres)\n",
        "MODEL = \"TinyLlama/TinyLlama-1.1B-Chat-v1.0\"\n",
        "DATASET = \"yahma/alpaca-cleaned\"   # o cualquier dataset instruct público\n",
        "OUTPUT_DIR = \"/content/qlora-demo\"\n",
        "\n",
        "# Parámetros QLoRA (ajustables)\n",
        "bnb_4bit = BitsAndBytesConfig(\n",
        "    load_in_4bit=True,\n",
        "    bnb_4bit_quant_type=\"nf4\",\n",
        "    bnb_4bit_use_double_quant=True,\n",
        "    bnb_4bit_compute_dtype=torch.bfloat16 if torch.cuda.is_available() and torch.cuda.get_device_capability(0)[0] >= 8 else torch.float16\n",
        ")\n",
        "\n",
        "peft_cfg = LoraConfig(\n",
        "    r=16, lora_alpha=16, lora_dropout=0.05,\n",
        "    bias=\"none\",\n",
        "    task_type=\"CAUSAL_LM\",\n",
        "    target_modules=[\"q_proj\",\"k_proj\",\"v_proj\",\"o_proj\"]  # buen inicio; puedes empezar con [\"q_proj\",\"v_proj\"]\n",
        ")\n",
        "\n"
      ],
      "id": "pAKrHuxJ8doK"
    },
    {
      "cell_type": "markdown",
      "metadata": {
        "id": "GHLwB-r-8doK"
      },
      "source": [
        "## 3. Cargar modelo 4-bit y tokenizer"
      ],
      "id": "GHLwB-r-8doK"
    },
    {
      "cell_type": "code",
      "metadata": {
        "colab": {
          "base_uri": "https://localhost:8080/"
        },
        "id": "-AwVri2M8doL",
        "outputId": "dc356566-26f8-4d2a-a969-08d61cc216a2"
      },
      "outputs": [
        {
          "output_type": "stream",
          "name": "stderr",
          "text": [
            "/usr/local/lib/python3.12/dist-packages/huggingface_hub/utils/_auth.py:94: UserWarning: \n",
            "The secret `HF_TOKEN` does not exist in your Colab secrets.\n",
            "To authenticate with the Hugging Face Hub, create a token in your settings tab (https://huggingface.co/settings/tokens), set it as secret in your Google Colab and restart your session.\n",
            "You will be able to reuse this secret in all of your notebooks.\n",
            "Please note that authentication is recommended but still optional to access public models or datasets.\n",
            "  warnings.warn(\n"
          ]
        },
        {
          "output_type": "stream",
          "name": "stdout",
          "text": [
            "trainable params: 4,505,600 || all params: 1,104,553,984 || trainable%: 0.4079\n"
          ]
        }
      ],
      "execution_count": 2,
      "source": [
        "tok = AutoTokenizer.from_pretrained(MODEL, use_fast=True)\n",
        "\n",
        "model = AutoModelForCausalLM.from_pretrained(\n",
        "    MODEL,\n",
        "    quantization_config=bnb_4bit,\n",
        "    device_map=\"auto\"\n",
        ")\n",
        "\n",
        "# Alinear PAD para evitar avisos y batching raro\n",
        "tok.pad_token = tok.eos_token\n",
        "model.config.pad_token_id = tok.pad_token_id\n",
        "model.generation_config.pad_token_id = tok.pad_token_id\n",
        "\n",
        "# Preparar k-bit + inyectar LoRA\n",
        "from peft import LoraConfig, get_peft_model, prepare_model_for_kbit_training\n",
        "\n",
        "model = prepare_model_for_kbit_training(model)\n",
        "\n",
        "# (Opcional) Gradient checkpointing moderno (evita warning PyTorch 2.4+)\n",
        "model.gradient_checkpointing_enable(gradient_checkpointing_kwargs={\"use_reentrant\": False})\n",
        "\n",
        "peft_cfg = LoraConfig(\n",
        "    r=16, lora_alpha=16, lora_dropout=0.05,\n",
        "    bias=\"none\", task_type=\"CAUSAL_LM\",\n",
        "    target_modules=[\"q_proj\",\"k_proj\",\"v_proj\",\"o_proj\"]  # o [\"q_proj\",\"v_proj\"]\n",
        ")\n",
        "\n",
        "model = get_peft_model(model, peft_cfg)\n",
        "model.print_trainable_parameters()  # aquí ya NO debe salir 0\n",
        "\n"
      ],
      "id": "-AwVri2M8doL"
    },
    {
      "cell_type": "markdown",
      "metadata": {
        "id": "Kp7Ov0eT8doL"
      },
      "source": [
        "## 4. Dataset y formateo"
      ],
      "id": "Kp7Ov0eT8doL"
    },
    {
      "cell_type": "code",
      "metadata": {
        "id": "m7uqSvMh8doL"
      },
      "outputs": [],
      "execution_count": 3,
      "source": [
        "# Carga dataset y toma un subset pequeño para la demo\n",
        "raw = load_dataset(DATASET)\n",
        "train = raw[\"train\"].shuffle(seed=42).select(range(2000))  # ~2k ejemplos para demo\n",
        "#train = raw[\"train\"].shuffle(seed=42) # Intenta con todo el dataset\n",
        "\n",
        "# Plantilla simple estilo Alpaca para construir el prompt\n",
        "def format_sample(example):\n",
        "    instruction = example.get(\"instruction\",\"\")\n",
        "    input_ = example.get(\"input\",\"\")\n",
        "    output = example.get(\"output\",\"\")\n",
        "    if input_:\n",
        "        prompt = f\"### Instrucción:\\n{instruction}\\n\\n### Entrada:\\n{input_}\\n\\n### Respuesta:\\n{output}\"\n",
        "    else:\n",
        "        prompt = f\"### Instrucción:\\n{instruction}\\n\\n### Respuesta:\\n{output}\"\n",
        "    return {\"text\": prompt}\n",
        "\n",
        "train = train.map(format_sample, remove_columns=train.column_names)\n",
        "\n"
      ],
      "id": "m7uqSvMh8doL"
    },
    {
      "cell_type": "markdown",
      "metadata": {
        "id": "9gDyEUk-8doM"
      },
      "source": [
        "## 5. Config de entrenamiento (TRL SFTTrainer)"
      ],
      "id": "9gDyEUk-8doM"
    },
    {
      "cell_type": "code",
      "metadata": {
        "colab": {
          "base_uri": "https://localhost:8080/",
          "height": 757
        },
        "id": "d_vPDmk18doM",
        "outputId": "05043949-4d9a-4095-d6fd-f9aa6203acae"
      },
      "outputs": [
        {
          "output_type": "stream",
          "name": "stderr",
          "text": [
            "/usr/local/lib/python3.12/dist-packages/peft/tuners/lora/bnb.py:348: UserWarning: Merge lora module to 4-bit linear may get different generations due to rounding errors.\n",
            "  warnings.warn(\n",
            "/usr/local/lib/python3.12/dist-packages/peft/tuners/tuners_utils.py:196: UserWarning: Already found a `peft_config` attribute in the model. This will lead to having multiple adapters in the model. Make sure to know what you are doing!\n",
            "  warnings.warn(\n"
          ]
        },
        {
          "output_type": "stream",
          "name": "stdout",
          "text": [
            "Batches: 1000\n",
            "Entrenables tras inyección por SFTTrainer: 4,505,600 / 620,111,872\n"
          ]
        },
        {
          "output_type": "stream",
          "name": "stderr",
          "text": [
            "/usr/local/lib/python3.12/dist-packages/torch/_dynamo/eval_frame.py:929: UserWarning: torch.utils.checkpoint: the use_reentrant parameter should be passed explicitly. In version 2.5 we will raise an exception if use_reentrant is not passed. use_reentrant=False is recommended, but if you need to preserve the current default behavior, you can pass use_reentrant=True. Refer to docs for more details on the differences between the two variants.\n",
            "  return fn(*args, **kwargs)\n"
          ]
        },
        {
          "output_type": "display_data",
          "data": {
            "text/plain": [
              "<IPython.core.display.HTML object>"
            ],
            "text/html": [
              "\n",
              "    <div>\n",
              "      \n",
              "      <progress value='250' max='250' style='width:300px; height:20px; vertical-align: middle;'></progress>\n",
              "      [250/250 08:56, Epoch 1/1]\n",
              "    </div>\n",
              "    <table border=\"1\" class=\"dataframe\">\n",
              "  <thead>\n",
              " <tr style=\"text-align: left;\">\n",
              "      <th>Step</th>\n",
              "      <th>Training Loss</th>\n",
              "    </tr>\n",
              "  </thead>\n",
              "  <tbody>\n",
              "    <tr>\n",
              "      <td>20</td>\n",
              "      <td>1.366300</td>\n",
              "    </tr>\n",
              "    <tr>\n",
              "      <td>40</td>\n",
              "      <td>1.216200</td>\n",
              "    </tr>\n",
              "    <tr>\n",
              "      <td>60</td>\n",
              "      <td>1.179200</td>\n",
              "    </tr>\n",
              "    <tr>\n",
              "      <td>80</td>\n",
              "      <td>1.202700</td>\n",
              "    </tr>\n",
              "    <tr>\n",
              "      <td>100</td>\n",
              "      <td>1.151000</td>\n",
              "    </tr>\n",
              "    <tr>\n",
              "      <td>120</td>\n",
              "      <td>1.167600</td>\n",
              "    </tr>\n",
              "    <tr>\n",
              "      <td>140</td>\n",
              "      <td>1.184900</td>\n",
              "    </tr>\n",
              "    <tr>\n",
              "      <td>160</td>\n",
              "      <td>1.239600</td>\n",
              "    </tr>\n",
              "    <tr>\n",
              "      <td>180</td>\n",
              "      <td>1.096400</td>\n",
              "    </tr>\n",
              "    <tr>\n",
              "      <td>200</td>\n",
              "      <td>1.183500</td>\n",
              "    </tr>\n",
              "    <tr>\n",
              "      <td>220</td>\n",
              "      <td>1.161400</td>\n",
              "    </tr>\n",
              "    <tr>\n",
              "      <td>240</td>\n",
              "      <td>1.115700</td>\n",
              "    </tr>\n",
              "  </tbody>\n",
              "</table><p>"
            ]
          },
          "metadata": {}
        },
        {
          "output_type": "stream",
          "name": "stderr",
          "text": [
            "Using the `WANDB_DISABLED` environment variable is deprecated and will be removed in v5. Use the --report_to flag to control the integrations used for logging result (for instance --report_to none).\n",
            "/usr/local/lib/python3.12/dist-packages/torch/_dynamo/eval_frame.py:929: UserWarning: torch.utils.checkpoint: the use_reentrant parameter should be passed explicitly. In version 2.5 we will raise an exception if use_reentrant is not passed. use_reentrant=False is recommended, but if you need to preserve the current default behavior, you can pass use_reentrant=True. Refer to docs for more details on the differences between the two variants.\n",
            "  return fn(*args, **kwargs)\n",
            "Using the `WANDB_DISABLED` environment variable is deprecated and will be removed in v5. Use the --report_to flag to control the integrations used for logging result (for instance --report_to none).\n"
          ]
        },
        {
          "output_type": "execute_result",
          "data": {
            "text/plain": [
              "TrainOutput(global_step=250, training_loss=1.1884027099609376, metrics={'train_runtime': 539.8697, 'train_samples_per_second': 3.705, 'train_steps_per_second': 0.463, 'total_flos': 3492796103589888.0, 'train_loss': 1.1884027099609376, 'entropy': 1.2054669618606568, 'num_tokens': 399581.0, 'mean_token_accuracy': 0.6894352555274963, 'epoch': 1.0})"
            ]
          },
          "metadata": {},
          "execution_count": 5
        }
      ],
      "execution_count": 5,
      "source": [
        "# === después de cargar el modelo 4-bit y crear peft_cfg ===\n",
        "from trl import SFTTrainer, SFTConfig\n",
        "\n",
        "sft_cfg = SFTConfig(\n",
        "    output_dir=OUTPUT_DIR,\n",
        "    num_train_epochs=1,\n",
        "    per_device_train_batch_size=2,\n",
        "    gradient_accumulation_steps=4,\n",
        "    learning_rate=2e-4,\n",
        "    lr_scheduler_type=\"linear\",\n",
        "    logging_steps=20,\n",
        "    save_steps=200,\n",
        "    report_to=\"none\",\n",
        "    bf16=(torch.cuda.is_available() and torch.cuda.get_device_capability(0)[0] >= 8),\n",
        "    fp16=not (torch.cuda.is_available() and torch.cuda.get_device_capability(0)[0] >= 8),\n",
        "    dataloader_pin_memory=torch.cuda.is_available(),\n",
        "    packing=False,\n",
        "    dataset_text_field=\"text\",\n",
        "    max_length=512\n",
        ")\n",
        "\n",
        "trainer = SFTTrainer(\n",
        "    model=model,              # <- base 4-bit, SIN get_peft_model\n",
        "    peft_config=peft_cfg,     # <- que el trainer inyecte LoRA\n",
        "    args=sft_cfg,\n",
        "    train_dataset=train,\n",
        "    # processing_class=tok,   # opcional si quieres forzar tokenizer\n",
        ")\n",
        "\n",
        "# Sanity checks\n",
        "dl = trainer.get_train_dataloader()\n",
        "print(\"Batches:\", len(dl))\n",
        "trainables = sum(p.numel() for p in trainer.model.parameters() if p.requires_grad)\n",
        "total = sum(p.numel() for p in trainer.model.parameters())\n",
        "print(f\"Entrenables tras inyección por SFTTrainer: {trainables:,} / {total:,}\")\n",
        "\n",
        "trainer.train()\n",
        "\n"
      ],
      "id": "d_vPDmk18doM"
    },
    {
      "cell_type": "markdown",
      "metadata": {
        "id": "6_h02GlB8doM"
      },
      "source": [
        "## 6. Inferencia con adapters (carga y genera)"
      ],
      "id": "6_h02GlB8doM"
    },
    {
      "cell_type": "code",
      "metadata": {
        "colab": {
          "base_uri": "https://localhost:8080/"
        },
        "id": "kM8yMeBu8doM",
        "outputId": "35d7fe83-e193-4e5f-f51a-ea658dcc7d2e"
      },
      "outputs": [
        {
          "output_type": "stream",
          "name": "stdout",
          "text": [
            "Explica brevemente por qué la cuantización 4-bit (NF4) funciona bien para afinar LLMs.\n",
            "Explain briefly why the 4-bit NF4 encoding scheme works well for fine-tuning LLMs.\n"
          ]
        }
      ],
      "execution_count": 12,
      "source": [
        "from peft import PeftModel\n",
        "from transformers import AutoModelForCausalLM\n",
        "\n",
        "#ADAPTER_DIR = OUTPUT_DIR  # o el checkpoint exacto, p.ej. \"/content/qlora-demo/checkpoint-250\"\n",
        "\n",
        "ADAPTER_DIR = \"/content/qlora-demo/checkpoint-250\"\n",
        "# 1) Carga la base 4-bit\n",
        "base_4bit = AutoModelForCausalLM.from_pretrained(\n",
        "    MODEL, quantization_config=bnb_4bit, device_map=\"auto\"\n",
        ")\n",
        "\n",
        "# 2) Aplica el adapter (¡aquí debe existir adapter_config.json!)\n",
        "ft_model = PeftModel.from_pretrained(base_4bit, ADAPTER_DIR, is_trainable=False)\n",
        "\n",
        "prompt = \"Explica brevemente por qué la cuantización 4-bit (NF4) funciona bien para afinar LLMs.\"\n",
        "inputs = tok(prompt, return_tensors=\"pt\").to(ft_model.device)\n",
        "with torch.inference_mode():\n",
        "    out = ft_model.generate(**inputs, max_new_tokens=128)\n",
        "print(tok.decode(out[0], skip_special_tokens=True))\n",
        "\n",
        "\n"
      ],
      "id": "kM8yMeBu8doM"
    },
    {
      "cell_type": "code",
      "source": [
        "# =========================\n",
        "#  Comparativa bonita (10 repeticiones + error bars + boxplot)\n",
        "# =========================\n",
        "import time, math, statistics as stats\n",
        "import torch, pandas as pd, matplotlib.pyplot as plt\n",
        "from transformers import AutoModelForCausalLM, AutoTokenizer, BitsAndBytesConfig\n",
        "from IPython.display import display\n",
        "\n",
        "# ---------- Parámetros del benchmark ----------\n",
        "PROMPT = \"Explica en 2 frases qué es la cuantización affine.\"\n",
        "MAX_NEW_TOKENS = 64\n",
        "RUNS = 10            # ← más fiable (múltiples muestras)\n",
        "DO_FP16 = True       # pon False si tu GPU no soporta el baseline FP16\n",
        "\n",
        "# ---------- Tokenizer (si no existe, lo cargamos) ----------\n",
        "if 'tok' not in globals():\n",
        "    tok = AutoTokenizer.from_pretrained(MODEL, use_fast=True)\n",
        "\n",
        "# ---------- Helpers (fallbacks si no tienes la Celda 1) ----------\n",
        "def _gpu_peak_gb_fallback():\n",
        "    if not torch.cuda.is_available(): return 0.0\n",
        "    torch.cuda.synchronize()\n",
        "    return torch.cuda.max_memory_allocated() / (1024**3)\n",
        "\n",
        "if 'gpu_peak_gb' not in globals():\n",
        "    gpu_peak_gb = _gpu_peak_gb_fallback\n",
        "\n",
        "def gen_and_bench_multi(model, tok, prompt, max_new=64, runs=10):\n",
        "    \"\"\"Devuelve: dict con 'sec_list', 'tps_list', 'sec_mean', 'tps_mean', 'tps_std', 'peak_gb'.\"\"\"\n",
        "    device = next(model.parameters()).device\n",
        "    inputs = tok(prompt, return_tensors=\"pt\").to(device)\n",
        "    with torch.inference_mode():\n",
        "        _ = model.generate(**inputs, max_new_tokens=8)  # warmup\n",
        "    if torch.cuda.is_available():\n",
        "        torch.cuda.reset_peak_memory_stats(device)\n",
        "\n",
        "    sec_list, tps_list = [], []\n",
        "    with torch.inference_mode():\n",
        "        for _ in range(runs):\n",
        "            t0 = time.perf_counter()\n",
        "            out = model.generate(**inputs, max_new_tokens=max_new)\n",
        "            t1 = time.perf_counter()\n",
        "            gen_tokens = (out.shape[-1] - inputs[\"input_ids\"].shape[-1])\n",
        "            sec = (t1 - t0)\n",
        "            tps = (gen_tokens / sec) if sec > 0 else float(\"nan\")\n",
        "            sec_list.append(sec)\n",
        "            tps_list.append(tps)\n",
        "\n",
        "    peak = gpu_peak_gb()\n",
        "    return {\n",
        "        \"sec_list\": sec_list,\n",
        "        \"tps_list\": tps_list,\n",
        "        \"sec_mean\": sum(sec_list)/len(sec_list),\n",
        "        \"tps_mean\": sum(tps_list)/len(tps_list),\n",
        "        \"tps_std\":  stats.pstdev(tps_list) if len(tps_list) > 1 else 0.0,\n",
        "        \"peak_gb\":  peak\n",
        "    }\n",
        "\n",
        "# ---------- Ejecutar comparativa ----------\n",
        "rows = []\n",
        "per_run = {}  # guardará las listas por config para boxplot\n",
        "\n",
        "# 8-bit (LLM.int8)\n",
        "bnb_8 = BitsAndBytesConfig(load_in_8bit=True, llm_int8_threshold=6.0, llm_int8_has_fp16_weight=False)\n",
        "m8 = AutoModelForCausalLM.from_pretrained(MODEL, quantization_config=bnb_8, device_map=\"auto\")\n",
        "res8 = gen_and_bench_multi(m8, tok, PROMPT, MAX_NEW_TOKENS, RUNS)\n",
        "rows.append({\"config\":\"bnb 8-bit (LLM.int8)\", \"sec/gen\": res8[\"sec_mean\"], \"tok/s\": res8[\"tps_mean\"], \"tok/s_std\": res8[\"tps_std\"], \"peak_VRAM_GB\": res8[\"peak_gb\"]})\n",
        "per_run[\"bnb 8-bit (LLM.int8)\"] = res8[\"tps_list\"]\n",
        "del m8;\n",
        "if torch.cuda.is_available(): torch.cuda.empty_cache()\n",
        "\n",
        "# 4-bit (NF4 + double-quant)\n",
        "bnb_4 = BitsAndBytesConfig(\n",
        "    load_in_4bit=True, bnb_4bit_quant_type=\"nf4\", bnb_4bit_use_double_quant=True,\n",
        "    bnb_4bit_compute_dtype=(torch.bfloat16 if torch.cuda.is_available() and torch.cuda.get_device_capability(0)[0] >= 8 else torch.float16)\n",
        ")\n",
        "m4 = AutoModelForCausalLM.from_pretrained(MODEL, quantization_config=bnb_4, device_map=\"auto\")\n",
        "res4 = gen_and_bench_multi(m4, tok, PROMPT, MAX_NEW_TOKENS, RUNS)\n",
        "rows.append({\"config\":\"bnb 4-bit (NF4)\", \"sec/gen\": res4[\"sec_mean\"], \"tok/s\": res4[\"tps_mean\"], \"tok/s_std\": res4[\"tps_std\"], \"peak_VRAM_GB\": res4[\"peak_gb\"]})\n",
        "per_run[\"bnb 4-bit (NF4)\"] = res4[\"tps_list\"]\n",
        "del m4;\n",
        "if torch.cuda.is_available(): torch.cuda.empty_cache()\n",
        "\n",
        "# (Opcional) FP16 baseline\n",
        "HAVE_FP16 = False\n",
        "if DO_FP16:\n",
        "    try:\n",
        "        m0 = AutoModelForCausalLM.from_pretrained(MODEL, torch_dtype=\"auto\", device_map=\"auto\")\n",
        "        res0 = gen_and_bench_multi(m0, tok, PROMPT, MAX_NEW_TOKENS, RUNS)\n",
        "        rows.insert(0, {\"config\":\"FP16 (baseline)\", \"sec/gen\": res0[\"sec_mean\"], \"tok/s\": res0[\"tps_mean\"], \"tok/s_std\": res0[\"tps_std\"], \"peak_VRAM_GB\": res0[\"peak_gb\"]})\n",
        "        per_run[\"FP16 (baseline)\"] = res0[\"tps_list\"]\n",
        "        HAVE_FP16 = True\n",
        "        del m0\n",
        "        if torch.cuda.is_available(): torch.cuda.empty_cache()\n",
        "    except Exception as e:\n",
        "        print(\"⚠️ FP16 no se cargó (VRAM insuficiente). Continuamos sin baseline.\")\n",
        "\n",
        "# ---------- Tabla + CSV con media y std ----------\n",
        "df = pd.DataFrame(rows)\n",
        "display(df)\n",
        "\n",
        "CSV_PATH = \"/content/quantization_benchmark.csv\"\n",
        "df.to_csv(CSV_PATH, index=False)\n",
        "print(f\"CSV guardado en: {CSV_PATH}\")\n",
        "\n",
        "# ---------- Gráfico 1: Barras con barras de error (tok/s) ----------\n",
        "plt.figure(figsize=(8,4.5))\n",
        "ax = df.plot(kind=\"bar\", x=\"config\", y=\"tok/s\", yerr=df[\"tok/s_std\"], capsize=4, legend=False)\n",
        "plt.title(\"Rendimiento (tokens/s) — media ± std (n=10)\")\n",
        "plt.ylabel(\"tokens/s\")\n",
        "plt.xticks(rotation=15, ha=\"right\")\n",
        "plt.grid(axis=\"y\", linestyle=\"--\", alpha=0.4)\n",
        "# Anotar valores encima de cada barra\n",
        "for p in ax.patches:\n",
        "    height = p.get_height()\n",
        "    ax.annotate(f\"{height:.1f}\", (p.get_x() + p.get_width()/2, height),\n",
        "                xytext=(0, 5), textcoords=\"offset points\", ha=\"center\", va=\"bottom\", fontsize=9)\n",
        "plt.tight_layout()\n",
        "plt.show()\n",
        "\n",
        "# ---------- Gráfico 2: Boxplot de tok/s por configuración ----------\n",
        "plt.figure(figsize=(8,4.5))\n",
        "labels = list(per_run.keys())\n",
        "data   = [per_run[k] for k in labels]\n",
        "plt.boxplot(data, labels=labels, showmeans=True)\n",
        "plt.title(\"Distribución de tokens/s por configuración (n=10)\")\n",
        "plt.ylabel(\"tokens/s\")\n",
        "plt.xticks(rotation=15, ha=\"right\")\n",
        "plt.grid(axis=\"y\", linestyle=\"--\", alpha=0.4)\n",
        "plt.tight_layout()\n",
        "plt.show()\n",
        "\n",
        "# ---------- Resumen vs FP16 (si existe) ----------\n",
        "def summary_vs_fp16(df, baseline=\"FP16 (baseline)\"):\n",
        "    if baseline not in df[\"config\"].values:\n",
        "        return \"No hay baseline FP16; compara 8-bit vs 4-bit directamente.\"\n",
        "    base = df.set_index(\"config\").loc[baseline]\n",
        "    lines = []\n",
        "    for _, row in df.iterrows():\n",
        "        if row[\"config\"] == baseline: continue\n",
        "        vram_saving = (base[\"peak_VRAM_GB\"] - row[\"peak_VRAM_GB\"]) / base[\"peak_VRAM_GB\"] * 100.0\n",
        "        tps_gain    = (row[\"tok/s\"]      - base[\"tok/s\"])       / base[\"tok/s\"]       * 100.0\n",
        "        lines.append(f\"- {row['config']}: ahorro VRAM ≈ {vram_saving:.1f}% | Δ tokens/s ≈ {tps_gain:.1f}% (media n=10)\")\n",
        "    return \"Resumen vs FP16:\\n\" + \"\\n\".join(lines)\n",
        "\n",
        "print(summary_vs_fp16(df))\n",
        "\n",
        "\n"
      ],
      "metadata": {
        "colab": {
          "base_uri": "https://localhost:8080/",
          "height": 1000
        },
        "id": "xurWI1-2RALt",
        "outputId": "9bafe339-c39c-48c9-c8a1-97ecdb6bdc44"
      },
      "id": "xurWI1-2RALt",
      "execution_count": 19,
      "outputs": [
        {
          "output_type": "display_data",
          "data": {
            "text/plain": [
              "                 config   sec/gen      tok/s  tok/s_std  peak_VRAM_GB\n",
              "0       FP16 (baseline)  1.971630  32.641050   2.379983      7.649432\n",
              "1  bnb 8-bit (LLM.int8)  6.627692   9.671119   0.376939      6.275438\n",
              "2       bnb 4-bit (NF4)  1.796341  17.374556   1.399226      5.862898"
            ],
            "text/html": [
              "\n",
              "  <div id=\"df-16bd5753-bf9b-4a3f-802b-a74f603ed03b\" class=\"colab-df-container\">\n",
              "    <div>\n",
              "<style scoped>\n",
              "    .dataframe tbody tr th:only-of-type {\n",
              "        vertical-align: middle;\n",
              "    }\n",
              "\n",
              "    .dataframe tbody tr th {\n",
              "        vertical-align: top;\n",
              "    }\n",
              "\n",
              "    .dataframe thead th {\n",
              "        text-align: right;\n",
              "    }\n",
              "</style>\n",
              "<table border=\"1\" class=\"dataframe\">\n",
              "  <thead>\n",
              "    <tr style=\"text-align: right;\">\n",
              "      <th></th>\n",
              "      <th>config</th>\n",
              "      <th>sec/gen</th>\n",
              "      <th>tok/s</th>\n",
              "      <th>tok/s_std</th>\n",
              "      <th>peak_VRAM_GB</th>\n",
              "    </tr>\n",
              "  </thead>\n",
              "  <tbody>\n",
              "    <tr>\n",
              "      <th>0</th>\n",
              "      <td>FP16 (baseline)</td>\n",
              "      <td>1.971630</td>\n",
              "      <td>32.641050</td>\n",
              "      <td>2.379983</td>\n",
              "      <td>7.649432</td>\n",
              "    </tr>\n",
              "    <tr>\n",
              "      <th>1</th>\n",
              "      <td>bnb 8-bit (LLM.int8)</td>\n",
              "      <td>6.627692</td>\n",
              "      <td>9.671119</td>\n",
              "      <td>0.376939</td>\n",
              "      <td>6.275438</td>\n",
              "    </tr>\n",
              "    <tr>\n",
              "      <th>2</th>\n",
              "      <td>bnb 4-bit (NF4)</td>\n",
              "      <td>1.796341</td>\n",
              "      <td>17.374556</td>\n",
              "      <td>1.399226</td>\n",
              "      <td>5.862898</td>\n",
              "    </tr>\n",
              "  </tbody>\n",
              "</table>\n",
              "</div>\n",
              "    <div class=\"colab-df-buttons\">\n",
              "\n",
              "  <div class=\"colab-df-container\">\n",
              "    <button class=\"colab-df-convert\" onclick=\"convertToInteractive('df-16bd5753-bf9b-4a3f-802b-a74f603ed03b')\"\n",
              "            title=\"Convert this dataframe to an interactive table.\"\n",
              "            style=\"display:none;\">\n",
              "\n",
              "  <svg xmlns=\"http://www.w3.org/2000/svg\" height=\"24px\" viewBox=\"0 -960 960 960\">\n",
              "    <path d=\"M120-120v-720h720v720H120Zm60-500h600v-160H180v160Zm220 220h160v-160H400v160Zm0 220h160v-160H400v160ZM180-400h160v-160H180v160Zm440 0h160v-160H620v160ZM180-180h160v-160H180v160Zm440 0h160v-160H620v160Z\"/>\n",
              "  </svg>\n",
              "    </button>\n",
              "\n",
              "  <style>\n",
              "    .colab-df-container {\n",
              "      display:flex;\n",
              "      gap: 12px;\n",
              "    }\n",
              "\n",
              "    .colab-df-convert {\n",
              "      background-color: #E8F0FE;\n",
              "      border: none;\n",
              "      border-radius: 50%;\n",
              "      cursor: pointer;\n",
              "      display: none;\n",
              "      fill: #1967D2;\n",
              "      height: 32px;\n",
              "      padding: 0 0 0 0;\n",
              "      width: 32px;\n",
              "    }\n",
              "\n",
              "    .colab-df-convert:hover {\n",
              "      background-color: #E2EBFA;\n",
              "      box-shadow: 0px 1px 2px rgba(60, 64, 67, 0.3), 0px 1px 3px 1px rgba(60, 64, 67, 0.15);\n",
              "      fill: #174EA6;\n",
              "    }\n",
              "\n",
              "    .colab-df-buttons div {\n",
              "      margin-bottom: 4px;\n",
              "    }\n",
              "\n",
              "    [theme=dark] .colab-df-convert {\n",
              "      background-color: #3B4455;\n",
              "      fill: #D2E3FC;\n",
              "    }\n",
              "\n",
              "    [theme=dark] .colab-df-convert:hover {\n",
              "      background-color: #434B5C;\n",
              "      box-shadow: 0px 1px 3px 1px rgba(0, 0, 0, 0.15);\n",
              "      filter: drop-shadow(0px 1px 2px rgba(0, 0, 0, 0.3));\n",
              "      fill: #FFFFFF;\n",
              "    }\n",
              "  </style>\n",
              "\n",
              "    <script>\n",
              "      const buttonEl =\n",
              "        document.querySelector('#df-16bd5753-bf9b-4a3f-802b-a74f603ed03b button.colab-df-convert');\n",
              "      buttonEl.style.display =\n",
              "        google.colab.kernel.accessAllowed ? 'block' : 'none';\n",
              "\n",
              "      async function convertToInteractive(key) {\n",
              "        const element = document.querySelector('#df-16bd5753-bf9b-4a3f-802b-a74f603ed03b');\n",
              "        const dataTable =\n",
              "          await google.colab.kernel.invokeFunction('convertToInteractive',\n",
              "                                                    [key], {});\n",
              "        if (!dataTable) return;\n",
              "\n",
              "        const docLinkHtml = 'Like what you see? Visit the ' +\n",
              "          '<a target=\"_blank\" href=https://colab.research.google.com/notebooks/data_table.ipynb>data table notebook</a>'\n",
              "          + ' to learn more about interactive tables.';\n",
              "        element.innerHTML = '';\n",
              "        dataTable['output_type'] = 'display_data';\n",
              "        await google.colab.output.renderOutput(dataTable, element);\n",
              "        const docLink = document.createElement('div');\n",
              "        docLink.innerHTML = docLinkHtml;\n",
              "        element.appendChild(docLink);\n",
              "      }\n",
              "    </script>\n",
              "  </div>\n",
              "\n",
              "\n",
              "    <div id=\"df-f85a56b7-4064-4852-97ca-499d9e46b658\">\n",
              "      <button class=\"colab-df-quickchart\" onclick=\"quickchart('df-f85a56b7-4064-4852-97ca-499d9e46b658')\"\n",
              "                title=\"Suggest charts\"\n",
              "                style=\"display:none;\">\n",
              "\n",
              "<svg xmlns=\"http://www.w3.org/2000/svg\" height=\"24px\"viewBox=\"0 0 24 24\"\n",
              "     width=\"24px\">\n",
              "    <g>\n",
              "        <path d=\"M19 3H5c-1.1 0-2 .9-2 2v14c0 1.1.9 2 2 2h14c1.1 0 2-.9 2-2V5c0-1.1-.9-2-2-2zM9 17H7v-7h2v7zm4 0h-2V7h2v10zm4 0h-2v-4h2v4z\"/>\n",
              "    </g>\n",
              "</svg>\n",
              "      </button>\n",
              "\n",
              "<style>\n",
              "  .colab-df-quickchart {\n",
              "      --bg-color: #E8F0FE;\n",
              "      --fill-color: #1967D2;\n",
              "      --hover-bg-color: #E2EBFA;\n",
              "      --hover-fill-color: #174EA6;\n",
              "      --disabled-fill-color: #AAA;\n",
              "      --disabled-bg-color: #DDD;\n",
              "  }\n",
              "\n",
              "  [theme=dark] .colab-df-quickchart {\n",
              "      --bg-color: #3B4455;\n",
              "      --fill-color: #D2E3FC;\n",
              "      --hover-bg-color: #434B5C;\n",
              "      --hover-fill-color: #FFFFFF;\n",
              "      --disabled-bg-color: #3B4455;\n",
              "      --disabled-fill-color: #666;\n",
              "  }\n",
              "\n",
              "  .colab-df-quickchart {\n",
              "    background-color: var(--bg-color);\n",
              "    border: none;\n",
              "    border-radius: 50%;\n",
              "    cursor: pointer;\n",
              "    display: none;\n",
              "    fill: var(--fill-color);\n",
              "    height: 32px;\n",
              "    padding: 0;\n",
              "    width: 32px;\n",
              "  }\n",
              "\n",
              "  .colab-df-quickchart:hover {\n",
              "    background-color: var(--hover-bg-color);\n",
              "    box-shadow: 0 1px 2px rgba(60, 64, 67, 0.3), 0 1px 3px 1px rgba(60, 64, 67, 0.15);\n",
              "    fill: var(--button-hover-fill-color);\n",
              "  }\n",
              "\n",
              "  .colab-df-quickchart-complete:disabled,\n",
              "  .colab-df-quickchart-complete:disabled:hover {\n",
              "    background-color: var(--disabled-bg-color);\n",
              "    fill: var(--disabled-fill-color);\n",
              "    box-shadow: none;\n",
              "  }\n",
              "\n",
              "  .colab-df-spinner {\n",
              "    border: 2px solid var(--fill-color);\n",
              "    border-color: transparent;\n",
              "    border-bottom-color: var(--fill-color);\n",
              "    animation:\n",
              "      spin 1s steps(1) infinite;\n",
              "  }\n",
              "\n",
              "  @keyframes spin {\n",
              "    0% {\n",
              "      border-color: transparent;\n",
              "      border-bottom-color: var(--fill-color);\n",
              "      border-left-color: var(--fill-color);\n",
              "    }\n",
              "    20% {\n",
              "      border-color: transparent;\n",
              "      border-left-color: var(--fill-color);\n",
              "      border-top-color: var(--fill-color);\n",
              "    }\n",
              "    30% {\n",
              "      border-color: transparent;\n",
              "      border-left-color: var(--fill-color);\n",
              "      border-top-color: var(--fill-color);\n",
              "      border-right-color: var(--fill-color);\n",
              "    }\n",
              "    40% {\n",
              "      border-color: transparent;\n",
              "      border-right-color: var(--fill-color);\n",
              "      border-top-color: var(--fill-color);\n",
              "    }\n",
              "    60% {\n",
              "      border-color: transparent;\n",
              "      border-right-color: var(--fill-color);\n",
              "    }\n",
              "    80% {\n",
              "      border-color: transparent;\n",
              "      border-right-color: var(--fill-color);\n",
              "      border-bottom-color: var(--fill-color);\n",
              "    }\n",
              "    90% {\n",
              "      border-color: transparent;\n",
              "      border-bottom-color: var(--fill-color);\n",
              "    }\n",
              "  }\n",
              "</style>\n",
              "\n",
              "      <script>\n",
              "        async function quickchart(key) {\n",
              "          const quickchartButtonEl =\n",
              "            document.querySelector('#' + key + ' button');\n",
              "          quickchartButtonEl.disabled = true;  // To prevent multiple clicks.\n",
              "          quickchartButtonEl.classList.add('colab-df-spinner');\n",
              "          try {\n",
              "            const charts = await google.colab.kernel.invokeFunction(\n",
              "                'suggestCharts', [key], {});\n",
              "          } catch (error) {\n",
              "            console.error('Error during call to suggestCharts:', error);\n",
              "          }\n",
              "          quickchartButtonEl.classList.remove('colab-df-spinner');\n",
              "          quickchartButtonEl.classList.add('colab-df-quickchart-complete');\n",
              "        }\n",
              "        (() => {\n",
              "          let quickchartButtonEl =\n",
              "            document.querySelector('#df-f85a56b7-4064-4852-97ca-499d9e46b658 button');\n",
              "          quickchartButtonEl.style.display =\n",
              "            google.colab.kernel.accessAllowed ? 'block' : 'none';\n",
              "        })();\n",
              "      </script>\n",
              "    </div>\n",
              "\n",
              "  <div id=\"id_5457f40c-87ee-45f6-a003-a465eb271edf\">\n",
              "    <style>\n",
              "      .colab-df-generate {\n",
              "        background-color: #E8F0FE;\n",
              "        border: none;\n",
              "        border-radius: 50%;\n",
              "        cursor: pointer;\n",
              "        display: none;\n",
              "        fill: #1967D2;\n",
              "        height: 32px;\n",
              "        padding: 0 0 0 0;\n",
              "        width: 32px;\n",
              "      }\n",
              "\n",
              "      .colab-df-generate:hover {\n",
              "        background-color: #E2EBFA;\n",
              "        box-shadow: 0px 1px 2px rgba(60, 64, 67, 0.3), 0px 1px 3px 1px rgba(60, 64, 67, 0.15);\n",
              "        fill: #174EA6;\n",
              "      }\n",
              "\n",
              "      [theme=dark] .colab-df-generate {\n",
              "        background-color: #3B4455;\n",
              "        fill: #D2E3FC;\n",
              "      }\n",
              "\n",
              "      [theme=dark] .colab-df-generate:hover {\n",
              "        background-color: #434B5C;\n",
              "        box-shadow: 0px 1px 3px 1px rgba(0, 0, 0, 0.15);\n",
              "        filter: drop-shadow(0px 1px 2px rgba(0, 0, 0, 0.3));\n",
              "        fill: #FFFFFF;\n",
              "      }\n",
              "    </style>\n",
              "    <button class=\"colab-df-generate\" onclick=\"generateWithVariable('df')\"\n",
              "            title=\"Generate code using this dataframe.\"\n",
              "            style=\"display:none;\">\n",
              "\n",
              "  <svg xmlns=\"http://www.w3.org/2000/svg\" height=\"24px\"viewBox=\"0 0 24 24\"\n",
              "       width=\"24px\">\n",
              "    <path d=\"M7,19H8.4L18.45,9,17,7.55,7,17.6ZM5,21V16.75L18.45,3.32a2,2,0,0,1,2.83,0l1.4,1.43a1.91,1.91,0,0,1,.58,1.4,1.91,1.91,0,0,1-.58,1.4L9.25,21ZM18.45,9,17,7.55Zm-12,3A5.31,5.31,0,0,0,4.9,8.1,5.31,5.31,0,0,0,1,6.5,5.31,5.31,0,0,0,4.9,4.9,5.31,5.31,0,0,0,6.5,1,5.31,5.31,0,0,0,8.1,4.9,5.31,5.31,0,0,0,12,6.5,5.46,5.46,0,0,0,6.5,12Z\"/>\n",
              "  </svg>\n",
              "    </button>\n",
              "    <script>\n",
              "      (() => {\n",
              "      const buttonEl =\n",
              "        document.querySelector('#id_5457f40c-87ee-45f6-a003-a465eb271edf button.colab-df-generate');\n",
              "      buttonEl.style.display =\n",
              "        google.colab.kernel.accessAllowed ? 'block' : 'none';\n",
              "\n",
              "      buttonEl.onclick = () => {\n",
              "        google.colab.notebook.generateWithVariable('df');\n",
              "      }\n",
              "      })();\n",
              "    </script>\n",
              "  </div>\n",
              "\n",
              "    </div>\n",
              "  </div>\n"
            ],
            "application/vnd.google.colaboratory.intrinsic+json": {
              "type": "dataframe",
              "variable_name": "df",
              "summary": "{\n  \"name\": \"df\",\n  \"rows\": 3,\n  \"fields\": [\n    {\n      \"column\": \"config\",\n      \"properties\": {\n        \"dtype\": \"string\",\n        \"num_unique_values\": 3,\n        \"samples\": [\n          \"FP16 (baseline)\",\n          \"bnb 8-bit (LLM.int8)\",\n          \"bnb 4-bit (NF4)\"\n        ],\n        \"semantic_type\": \"\",\n        \"description\": \"\"\n      }\n    },\n    {\n      \"column\": \"sec/gen\",\n      \"properties\": {\n        \"dtype\": \"number\",\n        \"std\": 2.740181820502774,\n        \"min\": 1.7963414798003214,\n        \"max\": 6.627691728099944,\n        \"num_unique_values\": 3,\n        \"samples\": [\n          1.9716304068999306,\n          6.627691728099944,\n          1.7963414798003214\n        ],\n        \"semantic_type\": \"\",\n        \"description\": \"\"\n      }\n    },\n    {\n      \"column\": \"tok/s\",\n      \"properties\": {\n        \"dtype\": \"number\",\n        \"std\": 11.690640539473042,\n        \"min\": 9.671119431510148,\n        \"max\": 32.641049735532405,\n        \"num_unique_values\": 3,\n        \"samples\": [\n          32.641049735532405,\n          9.671119431510148,\n          17.37455644786214\n        ],\n        \"semantic_type\": \"\",\n        \"description\": \"\"\n      }\n    },\n    {\n      \"column\": \"tok/s_std\",\n      \"properties\": {\n        \"dtype\": \"number\",\n        \"std\": 1.001593671689068,\n        \"min\": 0.3769390770979626,\n        \"max\": 2.3799829170434488,\n        \"num_unique_values\": 3,\n        \"samples\": [\n          2.3799829170434488,\n          0.3769390770979626,\n          1.3992258940147622\n        ],\n        \"semantic_type\": \"\",\n        \"description\": \"\"\n      }\n    },\n    {\n      \"column\": \"peak_VRAM_GB\",\n      \"properties\": {\n        \"dtype\": \"number\",\n        \"std\": 0.9353924783545887,\n        \"min\": 5.862897872924805,\n        \"max\": 7.649432182312012,\n        \"num_unique_values\": 3,\n        \"samples\": [\n          7.649432182312012,\n          6.275437831878662,\n          5.862897872924805\n        ],\n        \"semantic_type\": \"\",\n        \"description\": \"\"\n      }\n    }\n  ]\n}"
            }
          },
          "metadata": {}
        },
        {
          "output_type": "stream",
          "name": "stdout",
          "text": [
            "CSV guardado en: /content/quantization_benchmark.csv\n"
          ]
        },
        {
          "output_type": "display_data",
          "data": {
            "text/plain": [
              "<Figure size 800x450 with 0 Axes>"
            ]
          },
          "metadata": {}
        },
        {
          "output_type": "display_data",
          "data": {
            "text/plain": [
              "<Figure size 640x480 with 1 Axes>"
            ],
            "image/png": "[encoded data removed]"
          },
          "metadata": {}
        },
        {
          "output_type": "stream",
          "name": "stderr",
          "text": [
            "/tmp/ipython-input-3216172615.py:125: MatplotlibDeprecationWarning: The 'labels' parameter of boxplot() has been renamed 'tick_labels' since Matplotlib 3.9; support for the old name will be dropped in 3.11.\n",
            "  plt.boxplot(data, labels=labels, showmeans=True)\n"
          ]
        },
        {
          "output_type": "display_data",
          "data": {
            "text/plain": [
              "<Figure size 800x450 with 1 Axes>"
            ],
            "image/png": "[encoded data removed]"
          },
          "metadata": {}
        },
        {
          "output_type": "stream",
          "name": "stdout",
          "text": [
            "Resumen vs FP16:\n",
            "- bnb 8-bit (LLM.int8): ahorro VRAM ≈ 18.0% | Δ tokens/s ≈ -70.4% (media n=10)\n",
            "- bnb 4-bit (NF4): ahorro VRAM ≈ 23.4% | Δ tokens/s ≈ -46.8% (media n=10)\n"
          ]
        }
      ]
    },
    {
      "cell_type": "code",
      "source": [
        "import pandas as pd\n",
        "\n",
        "\n",
        "df = pd.read_csv(CSV_PATH)\n",
        "\n",
        "CSV_PATH = \"/content/quantization_benchmark.csv\"\n",
        "\n",
        "try:\n",
        "    df.to_csv(CSV_PATH, index=False)\n",
        "    print(f\"CSV guardado en: {CSV_PATH}\")\n",
        "except NameError:\n",
        "    print(\"⚠️ 'df' no existe en este notebook. Ejecuta primero la comparativa 8-bit/4-bit para generarlo.\")\n",
        "\n",
        "def summary_vs_fp16(df, baseline=\"FP16 (baseline)\"):\n",
        "    if baseline not in df[\"config\"].values:\n",
        "        return \"No se encontró baseline FP16; no se puede calcular resumen relativo.\"\n",
        "    base = df.set_index(\"config\").loc[baseline]\n",
        "    lines = []\n",
        "    for _, row in df.iterrows():\n",
        "        if row[\"config\"] == baseline:\n",
        "            continue\n",
        "        vram_saving = (base[\"peak_VRAM_GB\"] - row[\"peak_VRAM_GB\"]) / base[\"peak_VRAM_GB\"] * 100.0\n",
        "        tps_gain = (row[\"tok/s\"] - base[\"tok/s\"]) / base[\"tok/s\"] * 100.0\n",
        "        lines.append(f\"- {row['config']}: ahorro VRAM ≈ {vram_saving:.1f}% | mejora tokens/s ≈ {tps_gain:.1f}%\")\n",
        "    return \"Resumen vs FP16:\\n\" + \"\\n\".join(lines)\n",
        "\n",
        "# Solo imprime si df existe\n",
        "try:\n",
        "    print(summary_vs_fp16(df))\n",
        "except NameError:\n",
        "    pass\n"
      ],
      "metadata": {
        "colab": {
          "base_uri": "https://localhost:8080/"
        },
        "id": "bhp5BIKC9Zkf",
        "outputId": "65358728-3869-4e37-8bb4-89e3baefc147"
      },
      "id": "bhp5BIKC9Zkf",
      "execution_count": 20,
      "outputs": [
        {
          "output_type": "stream",
          "name": "stdout",
          "text": [
            "CSV guardado en: /content/quantization_benchmark.csv\n",
            "Resumen vs FP16:\n",
            "- bnb 8-bit (LLM.int8): ahorro VRAM ≈ 18.0% | mejora tokens/s ≈ -70.4%\n",
            "- bnb 4-bit (NF4): ahorro VRAM ≈ 23.4% | mejora tokens/s ≈ -46.8%\n"
          ]
        }
      ]
    },
    {
      "cell_type": "markdown",
      "metadata": {
        "id": "I0-Gg_xY8doM"
      },
      "source": [
        "# ✅ Conclusiones\n",
        "\n",
        "- **Cuantizar funciona ya**: con **8-bit (LLM.int8)** se suele lograr ~**50% menos VRAM** con mínima pérdida de calidad; **4-bit (NF4)** reduce aún más la memoria con algo más de riesgo (según tarea/modelo). La forma recomendada hoy en Transformers es pasar `BitsAndBytesConfig` en `quantization_config`.\n",
        "\n",
        "\n",
        "- **QLoRA = LoRA + base 4-bit**: permite **afinar modelos grandes en una sola GPU** gracias a **NF4**, **double quantization** y **paged optimizers**, manteniendo resultados cercanos a 16-bit. :contentReference[oaicite:6]{index=6}\n",
        "- **Receta portable**: el stack **Transformers + PEFT + TRL (SFTTrainer)** simplifica el SFT con adapters y es fácil de trasladar a otros modelos y datasets.\n",
        "\n",
        "\n",
        "## 🧪 ¿Qué pueden experimentar?\n",
        "\n",
        "- **Conmutar 8-bit ↔ 4-bit**: cambiar `BitsAndBytesConfig` (p.ej., `bnb_4bit_quant_type = \"nf4\"` vs `\"fp4\"`) y observar **VRAM / tokens-s**.\n",
        "\n",
        "- **Ajustar LLM.int8**: probar distintos valores de `llm_int8_threshold` y ver el efecto en rendimiento/estabilidad.\n",
        "\n",
        "- **Longitud del prompt**: medir latencia con prompts cortos vs largos (la **KV-cache** domina en secuencias largas).  \n",
        "- **LoRA/QLoRA**: variar **r** y **lora_alpha**, y el conjunto de `target_modules` (p.ej., `[\"q_proj\",\"v_proj\"]` vs añadir `k_proj/o_proj`) para ver impacto en calidad y estabilidad.\n",
        "\n",
        "- **SFT con TRL**: cambiar el tamaño del dataset y el `max_seq_length`; observar si mejora la salida en tu tarea.\n",
        "\n",
        "> **Próximos pasos**: evaluar **AWQ/GPTQ** (weight-only) soportados por Transformers para servir checkpoints 4-bit listos, y añadir métricas de **tarea** (perplexity, EM, preferencia humana) además de la velocidad."
      ],
      "id": "I0-Gg_xY8doM"
    },
    {
      "cell_type": "code",
      "source": [],
      "metadata": {
        "id": "k7QxAT5OBH4c"
      },
      "id": "k7QxAT5OBH4c",
      "execution_count": null,
      "outputs": []
    },
    {
      "cell_type": "code",
      "source": [],
      "metadata": {
        "id": "Uy5EmsmJBI9C"
      },
      "id": "Uy5EmsmJBI9C",
      "execution_count": null,
      "outputs": []
    },
    {
      "cell_type": "code",
      "source": [],
      "metadata": {
        "id": "7xsa6fgaBI_x"
      },
      "id": "7xsa6fgaBI_x",
      "execution_count": null,
      "outputs": []
    }
  ],
  "metadata": {
    "kernelspec": {
      "name": "python3",
      "display_name": "Python 3"
    },
    "language_info": {
      "name": "python",
      "pygments_lexer": "ipython3"
    },
    "colab": {
      "provenance": [],
      "gpuType": "T4"
    },
    "accelerator": "GPU"
  },
  "nbformat": 4,
  "nbformat_minor": 5
}