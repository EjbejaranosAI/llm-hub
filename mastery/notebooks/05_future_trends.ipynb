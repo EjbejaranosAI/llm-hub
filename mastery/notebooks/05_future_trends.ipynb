{
  "cells": [
    {
      "cell_type": "markdown",
      "metadata": {},
      "source": "# 05 · Tendencias y Futuro (Opcional)\n\nMoE, modelos ligeros para edge, multimodalidad, riesgos y transparencia. Este cuaderno puede ser principalmente de **notas + enlaces** con pequeños snippets."
    },
    {
      "cell_type": "markdown",
      "metadata": {},
      "source": "## Checklists de lectura"
    },
    {
      "cell_type": "code",
      "metadata": {},
      "outputs": [],
      "execution_count": null,
      "source": "# TODO: lista de papers y enlaces clave\nreading_list = [\n    \"Mixture of Experts (MoE): Switch Transformers, DeepSeekMoE\",\n    \"Modelos ligeros: TinyLLaMA, Phi, Mistral 7B\",\n    \"Multimodal: LLaVA, Kosmos, Gemini (papers/recursos)\",\n]\nfor item in reading_list:\n    print('-', item)\n"
    },
    {
      "cell_type": "markdown",
      "metadata": {},
      "source": "## Snippets de ejemplo"
    },
    {
      "cell_type": "code",
      "metadata": {},
      "outputs": [],
      "execution_count": null,
      "source": "# Aquí puedes dejar pequeños ejemplos auto-contenidos para probar ideas.\n"
    }
  ],
  "metadata": {
    "kernelspec": {
      "name": "python3",
      "display_name": "Python 3"
    },
    "language_info": {
      "name": "python",
      "pygments_lexer": "ipython3"
    }
  },
  "nbformat": 4,
  "nbformat_minor": 5
}