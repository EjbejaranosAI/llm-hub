{
  "cells": [
    {
      "cell_type": "markdown",
      "metadata": {
        "id": "ABHtBgyc80LJ"
      },
      "source": [
        "# 04 Chain-of-Thoughts y Comparativa de Inferencia\n",
        "\n",
        "❤️ Creado por [@Edison_Bejarano](https://github.com/EjbejaranosAI/llm-hub/blob/main/mastery/notebooks/).\n",
        "\n",
        "**Objetivo:** mostrar cómo un LLM resuelve problemas con inferencia directa versus razonamiento paso a paso (Chain-of-Thought), incluyendo métricas de tiempo y tokens generados.\n",
        "\n",
        "**Prerequisitos:** Python 3.11+, GPU opcional, drivers/CUDA si aplica.\n",
        "\n",
        "**Índice del Notebook:**\n",
        "1. Instalación de dependencias (`optillm`, `transformers`, `matplotlib`, `pandas`)\n",
        "2. Carga del modelo instructivo y tokenizer\n",
        "3. Preparación de problemas de ejemplo\n",
        "4. Funciones de benchmark para medir tiempo y tokens\n",
        "5. Ejecución de inferencia normal vs Chain-of-Thought\n",
        "6. Comparativa gráfica (tiempo y tokens generados)\n",
        "7. Resultados detallados y discusión\n",
        "8. Conclusiones y aprendizajes para estudiantes\n"
      ],
      "id": "ABHtBgyc80LJ"
    },
    {
      "cell_type": "markdown",
      "metadata": {
        "id": "4uDOJeGd80LK"
      },
      "source": [
        "## 1. Instalación de dependencias"
      ],
      "id": "4uDOJeGd80LK"
    },
    {
      "cell_type": "code",
      "metadata": {
        "id": "DSRGC0ZC80LK"
      },
      "outputs": [],
      "execution_count": 3,
      "source": [
        "%%capture\n",
        "!pip uninstall -y pandas numpy\n",
        "!pip install -q numpy==1.25.0\n",
        "!pip install -q transformers==4.40.0 optillm\n",
        "!pip install -q torch torchvision torchaudio --index-url https://download.pytorch.org/whl/cu121\n",
        "!pip install -q pandas"
      ],
      "id": "DSRGC0ZC80LK"
    },
    {
      "cell_type": "markdown",
      "metadata": {
        "id": "k19mMUIs80LK"
      },
      "source": [
        "## 2. Imports y carga del modelo"
      ],
      "id": "k19mMUIs80LK"
    },
    {
      "cell_type": "code",
      "metadata": {
        "id": "31COAXJp80LK",
        "colab": {
          "base_uri": "https://localhost:8080/"
        },
        "outputId": "800adc6b-516e-4d44-d9f1-cc0cf5995a9b"
      },
      "outputs": [
        {
          "output_type": "stream",
          "name": "stderr",
          "text": [
            "/usr/local/lib/python3.12/dist-packages/huggingface_hub/file_download.py:945: FutureWarning: `resume_download` is deprecated and will be removed in version 1.0.0. Downloads always resume when possible. If you want to force a new download, use `force_download=True`.\n",
            "  warnings.warn(\n",
            "/usr/local/lib/python3.12/dist-packages/huggingface_hub/utils/_auth.py:94: UserWarning: \n",
            "The secret `HF_TOKEN` does not exist in your Colab secrets.\n",
            "To authenticate with the Hugging Face Hub, create a token in your settings tab (https://huggingface.co/settings/tokens), set it as secret in your Google Colab and restart your session.\n",
            "You will be able to reuse this secret in all of your notebooks.\n",
            "Please note that authentication is recommended but still optional to access public models or datasets.\n",
            "  warnings.warn(\n",
            "Special tokens have been added in the vocabulary, make sure the associated word embeddings are fine-tuned or trained.\n"
          ]
        }
      ],
      "execution_count": 4,
      "source": [
        "from transformers import AutoModelForCausalLM, AutoTokenizer\n",
        "from optillm.cot_decoding import cot_decode\n",
        "from optillm.entropy_decoding import entropy_decode\n",
        "import torch\n",
        "import time\n",
        "import matplotlib.pyplot as plt\n",
        "\n",
        "\n",
        "# Modelo instructivo para la demo\n",
        "model_name = \"Qwen/Qwen2.5-0.5B-Instruct\"\n",
        "\n",
        "# Cargar modelo y tokenizer\n",
        "model = AutoModelForCausalLM.from_pretrained(model_name)\n",
        "tokenizer = AutoTokenizer.from_pretrained(model_name)\n",
        "\n"
      ],
      "id": "31COAXJp80LK"
    },
    {
      "cell_type": "code",
      "source": [
        "!pip uninstall -y numpy pandas\n",
        "!pip install --no-cache-dir numpy==1.26.4 pandas==2.3.2"
      ],
      "metadata": {
        "colab": {
          "base_uri": "https://localhost:8080/",
          "height": 998
        },
        "id": "9802p8M2D7C0",
        "outputId": "1ef45a2d-2e59-4963-e1fa-a3ccc1ac74ad"
      },
      "id": "9802p8M2D7C0",
      "execution_count": 15,
      "outputs": [
        {
          "output_type": "stream",
          "name": "stdout",
          "text": [
            "Found existing installation: numpy 1.26.4\n",
            "Uninstalling numpy-1.26.4:\n",
            "  Successfully uninstalled numpy-1.26.4\n",
            "Found existing installation: pandas 2.3.2\n",
            "Uninstalling pandas-2.3.2:\n",
            "  Successfully uninstalled pandas-2.3.2\n",
            "Collecting numpy==1.26.4\n",
            "  Downloading numpy-1.26.4-cp312-cp312-manylinux_2_17_x86_64.manylinux2014_x86_64.whl.metadata (61 kB)\n",
            "\u001b[2K     \u001b[90m━━━━━━━━━━━━━━━━━━━━━━━━━━━━━━━━━━━━━━━\u001b[0m \u001b[32m61.0/61.0 kB\u001b[0m \u001b[31m102.4 MB/s\u001b[0m eta \u001b[36m0:00:00\u001b[0m\n",
            "\u001b[?25hCollecting pandas==2.3.2\n",
            "  Downloading pandas-2.3.2-cp312-cp312-manylinux_2_17_x86_64.manylinux2014_x86_64.whl.metadata (91 kB)\n",
            "\u001b[2K     \u001b[90m━━━━━━━━━━━━━━━━━━━━━━━━━━━━━━━━━━━━━━━\u001b[0m \u001b[32m91.2/91.2 kB\u001b[0m \u001b[31m252.8 MB/s\u001b[0m eta \u001b[36m0:00:00\u001b[0m\n",
            "\u001b[?25hRequirement already satisfied: python-dateutil>=2.8.2 in /usr/local/lib/python3.12/dist-packages (from pandas==2.3.2) (2.9.0.post0)\n",
            "Requirement already satisfied: pytz>=2020.1 in /usr/local/lib/python3.12/dist-packages (from pandas==2.3.2) (2025.2)\n",
            "Requirement already satisfied: tzdata>=2022.7 in /usr/local/lib/python3.12/dist-packages (from pandas==2.3.2) (2025.2)\n",
            "Requirement already satisfied: six>=1.5 in /usr/local/lib/python3.12/dist-packages (from python-dateutil>=2.8.2->pandas==2.3.2) (1.17.0)\n",
            "Downloading numpy-1.26.4-cp312-cp312-manylinux_2_17_x86_64.manylinux2014_x86_64.whl (18.0 MB)\n",
            "\u001b[2K   \u001b[90m━━━━━━━━━━━━━━━━━━━━━━━━━━━━━━━━━━━━━━━━\u001b[0m \u001b[32m18.0/18.0 MB\u001b[0m \u001b[31m197.8 MB/s\u001b[0m eta \u001b[36m0:00:00\u001b[0m\n",
            "\u001b[?25hDownloading pandas-2.3.2-cp312-cp312-manylinux_2_17_x86_64.manylinux2014_x86_64.whl (12.0 MB)\n",
            "\u001b[2K   \u001b[90m━━━━━━━━━━━━━━━━━━━━━━━━━━━━━━━━━━━━━━━━\u001b[0m \u001b[32m12.0/12.0 MB\u001b[0m \u001b[31m109.4 MB/s\u001b[0m eta \u001b[36m0:00:00\u001b[0m\n",
            "\u001b[?25hInstalling collected packages: numpy, pandas\n",
            "\u001b[31mERROR: pip's dependency resolver does not currently take into account all the packages that are installed. This behaviour is the source of the following dependency conflicts.\n",
            "google-colab 1.0.0 requires pandas==2.2.2, but you have pandas 2.3.2 which is incompatible.\n",
            "cudf-cu12 25.6.0 requires pandas<2.2.4dev0,>=2.0, but you have pandas 2.3.2 which is incompatible.\n",
            "dask-cudf-cu12 25.6.0 requires pandas<2.2.4dev0,>=2.0, but you have pandas 2.3.2 which is incompatible.\n",
            "sentence-transformers 5.1.0 requires transformers<5.0.0,>=4.41.0, but you have transformers 4.40.0 which is incompatible.\n",
            "opencv-python 4.12.0.88 requires numpy<2.3.0,>=2; python_version >= \"3.9\", but you have numpy 1.26.4 which is incompatible.\n",
            "opencv-python-headless 4.12.0.88 requires numpy<2.3.0,>=2; python_version >= \"3.9\", but you have numpy 1.26.4 which is incompatible.\n",
            "opencv-contrib-python 4.12.0.88 requires numpy<2.3.0,>=2; python_version >= \"3.9\", but you have numpy 1.26.4 which is incompatible.\u001b[0m\u001b[31m\n",
            "\u001b[0mSuccessfully installed numpy-1.26.4 pandas-2.3.2\n"
          ]
        },
        {
          "output_type": "display_data",
          "data": {
            "application/vnd.colab-display-data+json": {
              "pip_warning": {
                "packages": [
                  "numpy"
                ]
              },
              "id": "c7276e402b2a4b75afcdb3f3b571e6e2"
            }
          },
          "metadata": {}
        },
        {
          "output_type": "error",
          "ename": "ValueError",
          "evalue": "numpy.dtype size changed, may indicate binary incompatibility. Expected 96 from C header, got 88 from PyObject",
          "traceback": [
            "\u001b[0;31m---------------------------------------------------------------------------\u001b[0m",
            "\u001b[0;31mValueError\u001b[0m                                Traceback (most recent call last)",
            "\u001b[0;32m/tmp/ipython-input-507690512.py\u001b[0m in \u001b[0;36m<cell line: 0>\u001b[0;34m()\u001b[0m\n\u001b[1;32m      1\u001b[0m \u001b[0mget_ipython\u001b[0m\u001b[0;34m(\u001b[0m\u001b[0;34m)\u001b[0m\u001b[0;34m.\u001b[0m\u001b[0msystem\u001b[0m\u001b[0;34m(\u001b[0m\u001b[0;34m'pip uninstall -y numpy pandas'\u001b[0m\u001b[0;34m)\u001b[0m\u001b[0;34m\u001b[0m\u001b[0;34m\u001b[0m\u001b[0m\n\u001b[1;32m      2\u001b[0m \u001b[0mget_ipython\u001b[0m\u001b[0;34m(\u001b[0m\u001b[0;34m)\u001b[0m\u001b[0;34m.\u001b[0m\u001b[0msystem\u001b[0m\u001b[0;34m(\u001b[0m\u001b[0;34m'pip install --no-cache-dir numpy==1.26.4 pandas==2.3.2'\u001b[0m\u001b[0;34m)\u001b[0m\u001b[0;34m\u001b[0m\u001b[0;34m\u001b[0m\u001b[0m\n\u001b[0;32m----> 3\u001b[0;31m \u001b[0;32mimport\u001b[0m \u001b[0mpandas\u001b[0m\u001b[0;34m\u001b[0m\u001b[0;34m\u001b[0m\u001b[0m\n\u001b[0m",
            "\u001b[0;32m/usr/local/lib/python3.12/dist-packages/pandas/__init__.py\u001b[0m in \u001b[0;36m<module>\u001b[0;34m\u001b[0m\n\u001b[1;32m     35\u001b[0m     ) from _err\n\u001b[1;32m     36\u001b[0m \u001b[0;34m\u001b[0m\u001b[0m\n\u001b[0;32m---> 37\u001b[0;31m from pandas._config import (\n\u001b[0m\u001b[1;32m     38\u001b[0m     \u001b[0mget_option\u001b[0m\u001b[0;34m,\u001b[0m\u001b[0;34m\u001b[0m\u001b[0;34m\u001b[0m\u001b[0m\n\u001b[1;32m     39\u001b[0m     \u001b[0mset_option\u001b[0m\u001b[0;34m,\u001b[0m\u001b[0;34m\u001b[0m\u001b[0;34m\u001b[0m\u001b[0m\n",
            "\u001b[0;32m/usr/local/lib/python3.12/dist-packages/pandas/_config/__init__.py\u001b[0m in \u001b[0;36m<module>\u001b[0;34m\u001b[0m\n\u001b[1;32m     18\u001b[0m     \u001b[0;34m\"warn_copy_on_write\"\u001b[0m\u001b[0;34m,\u001b[0m\u001b[0;34m\u001b[0m\u001b[0;34m\u001b[0m\u001b[0m\n\u001b[1;32m     19\u001b[0m ]\n\u001b[0;32m---> 20\u001b[0;31m \u001b[0;32mfrom\u001b[0m \u001b[0mpandas\u001b[0m\u001b[0;34m.\u001b[0m\u001b[0m_config\u001b[0m \u001b[0;32mimport\u001b[0m \u001b[0mconfig\u001b[0m\u001b[0;34m\u001b[0m\u001b[0;34m\u001b[0m\u001b[0m\n\u001b[0m\u001b[1;32m     21\u001b[0m \u001b[0;32mfrom\u001b[0m \u001b[0mpandas\u001b[0m\u001b[0;34m.\u001b[0m\u001b[0m_config\u001b[0m \u001b[0;32mimport\u001b[0m \u001b[0mdates\u001b[0m  \u001b[0;31m# pyright: ignore[reportUnusedImport]  # noqa: F401\u001b[0m\u001b[0;34m\u001b[0m\u001b[0;34m\u001b[0m\u001b[0m\n\u001b[1;32m     22\u001b[0m from pandas._config.config import (\n",
            "\u001b[0;32m/usr/local/lib/python3.12/dist-packages/pandas/_config/config.py\u001b[0m in \u001b[0;36m<module>\u001b[0;34m\u001b[0m\n\u001b[1;32m     66\u001b[0m \u001b[0;32mimport\u001b[0m \u001b[0mwarnings\u001b[0m\u001b[0;34m\u001b[0m\u001b[0;34m\u001b[0m\u001b[0m\n\u001b[1;32m     67\u001b[0m \u001b[0;34m\u001b[0m\u001b[0m\n\u001b[0;32m---> 68\u001b[0;31m from pandas._typing import (\n\u001b[0m\u001b[1;32m     69\u001b[0m     \u001b[0mF\u001b[0m\u001b[0;34m,\u001b[0m\u001b[0;34m\u001b[0m\u001b[0;34m\u001b[0m\u001b[0m\n\u001b[1;32m     70\u001b[0m     \u001b[0mT\u001b[0m\u001b[0;34m,\u001b[0m\u001b[0;34m\u001b[0m\u001b[0;34m\u001b[0m\u001b[0m\n",
            "\u001b[0;32m/usr/local/lib/python3.12/dist-packages/pandas/_typing.py\u001b[0m in \u001b[0;36m<module>\u001b[0;34m\u001b[0m\n\u001b[1;32m    196\u001b[0m     \u001b[0mint\u001b[0m\u001b[0;34m,\u001b[0m\u001b[0;34m\u001b[0m\u001b[0;34m\u001b[0m\u001b[0m\n\u001b[1;32m    197\u001b[0m     \u001b[0mnp\u001b[0m\u001b[0;34m.\u001b[0m\u001b[0mndarray\u001b[0m\u001b[0;34m,\u001b[0m\u001b[0;34m\u001b[0m\u001b[0;34m\u001b[0m\u001b[0m\n\u001b[0;32m--> 198\u001b[0;31m     \u001b[0mnp\u001b[0m\u001b[0;34m.\u001b[0m\u001b[0mrandom\u001b[0m\u001b[0;34m.\u001b[0m\u001b[0mGenerator\u001b[0m\u001b[0;34m,\u001b[0m\u001b[0;34m\u001b[0m\u001b[0;34m\u001b[0m\u001b[0m\n\u001b[0m\u001b[1;32m    199\u001b[0m     \u001b[0mnp\u001b[0m\u001b[0;34m.\u001b[0m\u001b[0mrandom\u001b[0m\u001b[0;34m.\u001b[0m\u001b[0mBitGenerator\u001b[0m\u001b[0;34m,\u001b[0m\u001b[0;34m\u001b[0m\u001b[0;34m\u001b[0m\u001b[0m\n\u001b[1;32m    200\u001b[0m     \u001b[0mnp\u001b[0m\u001b[0;34m.\u001b[0m\u001b[0mrandom\u001b[0m\u001b[0;34m.\u001b[0m\u001b[0mRandomState\u001b[0m\u001b[0;34m,\u001b[0m\u001b[0;34m\u001b[0m\u001b[0;34m\u001b[0m\u001b[0m\n",
            "\u001b[0;32m/usr/local/lib/python3.12/dist-packages/numpy/__init__.py\u001b[0m in \u001b[0;36m__getattr__\u001b[0;34m(attr)\u001b[0m\n\u001b[1;32m    335\u001b[0m \u001b[0;34m\u001b[0m\u001b[0m\n\u001b[1;32m    336\u001b[0m     \u001b[0;32mdef\u001b[0m \u001b[0m__dir__\u001b[0m\u001b[0;34m(\u001b[0m\u001b[0;34m)\u001b[0m\u001b[0;34m:\u001b[0m\u001b[0;34m\u001b[0m\u001b[0;34m\u001b[0m\u001b[0m\n\u001b[0;32m--> 337\u001b[0;31m         \u001b[0mpublic_symbols\u001b[0m \u001b[0;34m=\u001b[0m \u001b[0mglobals\u001b[0m\u001b[0;34m(\u001b[0m\u001b[0;34m)\u001b[0m\u001b[0;34m.\u001b[0m\u001b[0mkeys\u001b[0m\u001b[0;34m(\u001b[0m\u001b[0;34m)\u001b[0m \u001b[0;34m|\u001b[0m \u001b[0;34m{\u001b[0m\u001b[0;34m'testing'\u001b[0m\u001b[0;34m}\u001b[0m\u001b[0;34m\u001b[0m\u001b[0;34m\u001b[0m\u001b[0m\n\u001b[0m\u001b[1;32m    338\u001b[0m         public_symbols -= {\n\u001b[1;32m    339\u001b[0m             \u001b[0;34m\"core\"\u001b[0m\u001b[0;34m,\u001b[0m \u001b[0;34m\"matrixlib\"\u001b[0m\u001b[0;34m,\u001b[0m\u001b[0;34m\u001b[0m\u001b[0;34m\u001b[0m\u001b[0m\n",
            "\u001b[0;32m/usr/local/lib/python3.12/dist-packages/numpy/random/__init__.py\u001b[0m in \u001b[0;36m<module>\u001b[0;34m\u001b[0m\n\u001b[1;32m    178\u001b[0m \u001b[0;34m\u001b[0m\u001b[0m\n\u001b[1;32m    179\u001b[0m \u001b[0;31m# add these for module-freeze analysis (like PyInstaller)\u001b[0m\u001b[0;34m\u001b[0m\u001b[0;34m\u001b[0m\u001b[0m\n\u001b[0;32m--> 180\u001b[0;31m \u001b[0;32mfrom\u001b[0m \u001b[0;34m.\u001b[0m \u001b[0;32mimport\u001b[0m \u001b[0m_pickle\u001b[0m\u001b[0;34m\u001b[0m\u001b[0;34m\u001b[0m\u001b[0m\n\u001b[0m\u001b[1;32m    181\u001b[0m \u001b[0;32mfrom\u001b[0m \u001b[0;34m.\u001b[0m \u001b[0;32mimport\u001b[0m \u001b[0m_common\u001b[0m\u001b[0;34m\u001b[0m\u001b[0;34m\u001b[0m\u001b[0m\n\u001b[1;32m    182\u001b[0m \u001b[0;32mfrom\u001b[0m \u001b[0;34m.\u001b[0m \u001b[0;32mimport\u001b[0m \u001b[0m_bounded_integers\u001b[0m\u001b[0;34m\u001b[0m\u001b[0;34m\u001b[0m\u001b[0m\n",
            "\u001b[0;32m/usr/local/lib/python3.12/dist-packages/numpy/random/_pickle.py\u001b[0m in \u001b[0;36m<module>\u001b[0;34m\u001b[0m\n\u001b[0;32m----> 1\u001b[0;31m \u001b[0;32mfrom\u001b[0m \u001b[0;34m.\u001b[0m\u001b[0mmtrand\u001b[0m \u001b[0;32mimport\u001b[0m \u001b[0mRandomState\u001b[0m\u001b[0;34m\u001b[0m\u001b[0;34m\u001b[0m\u001b[0m\n\u001b[0m\u001b[1;32m      2\u001b[0m \u001b[0;32mfrom\u001b[0m \u001b[0;34m.\u001b[0m\u001b[0m_philox\u001b[0m \u001b[0;32mimport\u001b[0m \u001b[0mPhilox\u001b[0m\u001b[0;34m\u001b[0m\u001b[0;34m\u001b[0m\u001b[0m\n\u001b[1;32m      3\u001b[0m \u001b[0;32mfrom\u001b[0m \u001b[0;34m.\u001b[0m\u001b[0m_pcg64\u001b[0m \u001b[0;32mimport\u001b[0m \u001b[0mPCG64\u001b[0m\u001b[0;34m,\u001b[0m \u001b[0mPCG64DXSM\u001b[0m\u001b[0;34m\u001b[0m\u001b[0;34m\u001b[0m\u001b[0m\n\u001b[1;32m      4\u001b[0m \u001b[0;32mfrom\u001b[0m \u001b[0;34m.\u001b[0m\u001b[0m_sfc64\u001b[0m \u001b[0;32mimport\u001b[0m \u001b[0mSFC64\u001b[0m\u001b[0;34m\u001b[0m\u001b[0;34m\u001b[0m\u001b[0m\n\u001b[1;32m      5\u001b[0m \u001b[0;34m\u001b[0m\u001b[0m\n",
            "\u001b[0;32mnumpy/random/mtrand.pyx\u001b[0m in \u001b[0;36minit numpy.random.mtrand\u001b[0;34m()\u001b[0m\n",
            "\u001b[0;31mValueError\u001b[0m: numpy.dtype size changed, may indicate binary incompatibility. Expected 96 from C header, got 88 from PyObject"
          ]
        }
      ]
    },
    {
      "cell_type": "code",
      "source": [
        "import pandas"
      ],
      "metadata": {
        "id": "NJqMpNfSGzzD"
      },
      "id": "NJqMpNfSGzzD",
      "execution_count": 1,
      "outputs": []
    },
    {
      "cell_type": "markdown",
      "metadata": {
        "id": "R_gCAeRH80LK"
      },
      "source": [
        "## 3. Preparar problemas de prueba"
      ],
      "id": "R_gCAeRH80LK"
    },
    {
      "cell_type": "code",
      "metadata": {
        "id": "qA83cqlW80LK"
      },
      "outputs": [],
      "execution_count": 2,
      "source": [
        "# Lista de problemas matemáticos/lógicos\n",
        "problems = [\n",
        "    {\"role\": \"user\", \"content\": \"In a dance class of 20 students, 20% enrolled in contemporary dance, 25% of the remaining enrolled in jazz dance, and the rest enrolled in hip-hop dance. What percentage of the entire students enrolled in hip-hop dance?\"},\n",
        "    {\"role\": \"user\", \"content\": \"A farmer has 10 cows and buys 5 more. If he sells 6, how many cows does he have now?\"},\n",
        "    {\"role\": \"user\", \"content\": \"If a train travels 60 miles in 1 hour and 30 minutes, what is its average speed in miles per hour?\"}\n",
        "]"
      ],
      "id": "qA83cqlW80LK"
    },
    {
      "cell_type": "code",
      "source": [
        "problems"
      ],
      "metadata": {
        "colab": {
          "base_uri": "https://localhost:8080/"
        },
        "id": "XYKku_7c9tqU",
        "outputId": "9bbd53ae-ecf7-4d8f-966c-713041905a60"
      },
      "id": "XYKku_7c9tqU",
      "execution_count": 3,
      "outputs": [
        {
          "output_type": "execute_result",
          "data": {
            "text/plain": [
              "[{'role': 'user',\n",
              "  'content': 'In a dance class of 20 students, 20% enrolled in contemporary dance, 25% of the remaining enrolled in jazz dance, and the rest enrolled in hip-hop dance. What percentage of the entire students enrolled in hip-hop dance?'},\n",
              " {'role': 'user',\n",
              "  'content': 'A farmer has 10 cows and buys 5 more. If he sells 6, how many cows does he have now?'},\n",
              " {'role': 'user',\n",
              "  'content': 'If a train travels 60 miles in 1 hour and 30 minutes, what is its average speed in miles per hour?'}]"
            ]
          },
          "metadata": {},
          "execution_count": 3
        }
      ]
    },
    {
      "cell_type": "markdown",
      "metadata": {
        "id": "BYQUxA2q80LK"
      },
      "source": [
        "## 4. Funciones auxiliares para medición\n"
      ],
      "id": "BYQUxA2q80LK"
    },
    {
      "cell_type": "code",
      "metadata": {
        "id": "oMCScfh180LL"
      },
      "outputs": [],
      "execution_count": 5,
      "source": [
        "def benchmark_inference(model, tokenizer, messages, use_cot=False, max_new_tokens=128):\n",
        "    \"\"\"\n",
        "    Ejecuta inferencia normal o CoT y mide tiempo y tokens generados.\n",
        "    \"\"\"\n",
        "    start = time.perf_counter()\n",
        "    if use_cot:\n",
        "        result, _ = cot_decode(model, tokenizer, messages, aggregate_paths=True, max_new_tokens=max_new_tokens)\n",
        "    else:\n",
        "        result = entropy_decode(model, tokenizer, messages, max_new_tokens=max_new_tokens)\n",
        "    end = time.perf_counter()\n",
        "\n",
        "    # Contar tokens generados\n",
        "    inputs = tokenizer([m[\"content\"] for m in messages], return_tensors=\"pt\", padding=True)\n",
        "    output_tokens = tokenizer(result, return_tensors=\"pt\")[\"input_ids\"].shape[1]\n",
        "\n",
        "    return {\n",
        "        \"result\": result,\n",
        "        \"time_sec\": end - start,\n",
        "        \"tokens\": output_tokens\n",
        "    }\n"
      ],
      "id": "oMCScfh180LL"
    },
    {
      "cell_type": "markdown",
      "metadata": {
        "id": "jnjauQ_v80LL"
      },
      "source": [
        "## 5. Ejecutar benchmark en todos los problemas"
      ],
      "id": "jnjauQ_v80LL"
    },
    {
      "cell_type": "code",
      "metadata": {
        "id": "VcW6YcWP80LL",
        "colab": {
          "base_uri": "https://localhost:8080/"
        },
        "outputId": "458ba2e5-0d15-4f20-acf2-61056bd0abb7"
      },
      "outputs": [
        {
          "output_type": "stream",
          "name": "stderr",
          "text": [
            "Qwen2Model is using Qwen2SdpaAttention, but `torch.nn.functional.scaled_dot_product_attention` does not support `output_attentions=True`. Falling back to the manual attention implementation, but specifying the manual implementation will be required from Transformers version v5.0.0 onwards. This warning can be removed using the argument `attn_implementation=\"eager\"` when loading the model.\n"
          ]
        }
      ],
      "execution_count": 6,
      "source": [
        "data = []\n",
        "\n",
        "for i, prob in enumerate(problems):\n",
        "    # Inferencia normal\n",
        "    normal = benchmark_inference(model, tokenizer, [prob], use_cot=False)\n",
        "    # Chain-of-Thought\n",
        "    cot = benchmark_inference(model, tokenizer, [prob], use_cot=True)\n",
        "\n",
        "    data.append({\n",
        "        \"problem\": f\"Problem {i+1}\",\n",
        "        \"normal_result\": normal[\"result\"],\n",
        "        \"normal_time\": normal[\"time_sec\"],\n",
        "        \"normal_tokens\": normal[\"tokens\"],\n",
        "        \"cot_result\": cot[\"result\"],\n",
        "        \"cot_time\": cot[\"time_sec\"],\n",
        "        \"cot_tokens\": cot[\"tokens\"]\n",
        "    })\n",
        "\n"
      ],
      "id": "VcW6YcWP80LL"
    },
    {
      "cell_type": "code",
      "source": [
        "import pandas as pd\n",
        "df = pd.DataFrame(data)\n",
        "df"
      ],
      "metadata": {
        "colab": {
          "base_uri": "https://localhost:8080/",
          "height": 143
        },
        "id": "WwJra2swFYnB",
        "outputId": "55798548-ad3b-43d5-f950-edb0ab71168b"
      },
      "id": "WwJra2swFYnB",
      "execution_count": 9,
      "outputs": [
        {
          "output_type": "execute_result",
          "data": {
            "text/plain": [
              "     problem                                      normal_result  normal_time  \\\n",
              "0  Problem 1  There are 20 students enrolled in total in the...     8.329646   \n",
              "1  Problem 2  To determine how many cows the farmer has afte...     4.204498   \n",
              "2  Problem 3  To calculate the average speed of the train, w...     4.904929   \n",
              "\n",
              "   normal_tokens                                         cot_result  \\\n",
              "0            128  To determine the percentage of the entire stud...   \n",
              "1            128  Sure, let's break it down step by step:\\n\\n1. ...   \n",
              "2            128  Average speed is calculated by dividing the to...   \n",
              "\n",
              "    cot_time  cot_tokens  \n",
              "0  39.520447         129  \n",
              "1  26.160315         109  \n",
              "2  36.098176         129  "
            ],
            "text/html": [
              "\n",
              "  <div id=\"df-8348d034-2149-40e0-ac03-eaab0f8a0c78\" class=\"colab-df-container\">\n",
              "    <div>\n",
              "<style scoped>\n",
              "    .dataframe tbody tr th:only-of-type {\n",
              "        vertical-align: middle;\n",
              "    }\n",
              "\n",
              "    .dataframe tbody tr th {\n",
              "        vertical-align: top;\n",
              "    }\n",
              "\n",
              "    .dataframe thead th {\n",
              "        text-align: right;\n",
              "    }\n",
              "</style>\n",
              "<table border=\"1\" class=\"dataframe\">\n",
              "  <thead>\n",
              "    <tr style=\"text-align: right;\">\n",
              "      <th></th>\n",
              "      <th>problem</th>\n",
              "      <th>normal_result</th>\n",
              "      <th>normal_time</th>\n",
              "      <th>normal_tokens</th>\n",
              "      <th>cot_result</th>\n",
              "      <th>cot_time</th>\n",
              "      <th>cot_tokens</th>\n",
              "    </tr>\n",
              "  </thead>\n",
              "  <tbody>\n",
              "    <tr>\n",
              "      <th>0</th>\n",
              "      <td>Problem 1</td>\n",
              "      <td>There are 20 students enrolled in total in the...</td>\n",
              "      <td>8.329646</td>\n",
              "      <td>128</td>\n",
              "      <td>To determine the percentage of the entire stud...</td>\n",
              "      <td>39.520447</td>\n",
              "      <td>129</td>\n",
              "    </tr>\n",
              "    <tr>\n",
              "      <th>1</th>\n",
              "      <td>Problem 2</td>\n",
              "      <td>To determine how many cows the farmer has afte...</td>\n",
              "      <td>4.204498</td>\n",
              "      <td>128</td>\n",
              "      <td>Sure, let's break it down step by step:\\n\\n1. ...</td>\n",
              "      <td>26.160315</td>\n",
              "      <td>109</td>\n",
              "    </tr>\n",
              "    <tr>\n",
              "      <th>2</th>\n",
              "      <td>Problem 3</td>\n",
              "      <td>To calculate the average speed of the train, w...</td>\n",
              "      <td>4.904929</td>\n",
              "      <td>128</td>\n",
              "      <td>Average speed is calculated by dividing the to...</td>\n",
              "      <td>36.098176</td>\n",
              "      <td>129</td>\n",
              "    </tr>\n",
              "  </tbody>\n",
              "</table>\n",
              "</div>\n",
              "    <div class=\"colab-df-buttons\">\n",
              "\n",
              "  <div class=\"colab-df-container\">\n",
              "    <button class=\"colab-df-convert\" onclick=\"convertToInteractive('df-8348d034-2149-40e0-ac03-eaab0f8a0c78')\"\n",
              "            title=\"Convert this dataframe to an interactive table.\"\n",
              "            style=\"display:none;\">\n",
              "\n",
              "  <svg xmlns=\"http://www.w3.org/2000/svg\" height=\"24px\" viewBox=\"0 -960 960 960\">\n",
              "    <path d=\"M120-120v-720h720v720H120Zm60-500h600v-160H180v160Zm220 220h160v-160H400v160Zm0 220h160v-160H400v160ZM180-400h160v-160H180v160Zm440 0h160v-160H620v160ZM180-180h160v-160H180v160Zm440 0h160v-160H620v160Z\"/>\n",
              "  </svg>\n",
              "    </button>\n",
              "\n",
              "  <style>\n",
              "    .colab-df-container {\n",
              "      display:flex;\n",
              "      gap: 12px;\n",
              "    }\n",
              "\n",
              "    .colab-df-convert {\n",
              "      background-color: #E8F0FE;\n",
              "      border: none;\n",
              "      border-radius: 50%;\n",
              "      cursor: pointer;\n",
              "      display: none;\n",
              "      fill: #1967D2;\n",
              "      height: 32px;\n",
              "      padding: 0 0 0 0;\n",
              "      width: 32px;\n",
              "    }\n",
              "\n",
              "    .colab-df-convert:hover {\n",
              "      background-color: #E2EBFA;\n",
              "      box-shadow: 0px 1px 2px rgba(60, 64, 67, 0.3), 0px 1px 3px 1px rgba(60, 64, 67, 0.15);\n",
              "      fill: #174EA6;\n",
              "    }\n",
              "\n",
              "    .colab-df-buttons div {\n",
              "      margin-bottom: 4px;\n",
              "    }\n",
              "\n",
              "    [theme=dark] .colab-df-convert {\n",
              "      background-color: #3B4455;\n",
              "      fill: #D2E3FC;\n",
              "    }\n",
              "\n",
              "    [theme=dark] .colab-df-convert:hover {\n",
              "      background-color: #434B5C;\n",
              "      box-shadow: 0px 1px 3px 1px rgba(0, 0, 0, 0.15);\n",
              "      filter: drop-shadow(0px 1px 2px rgba(0, 0, 0, 0.3));\n",
              "      fill: #FFFFFF;\n",
              "    }\n",
              "  </style>\n",
              "\n",
              "    <script>\n",
              "      const buttonEl =\n",
              "        document.querySelector('#df-8348d034-2149-40e0-ac03-eaab0f8a0c78 button.colab-df-convert');\n",
              "      buttonEl.style.display =\n",
              "        google.colab.kernel.accessAllowed ? 'block' : 'none';\n",
              "\n",
              "      async function convertToInteractive(key) {\n",
              "        const element = document.querySelector('#df-8348d034-2149-40e0-ac03-eaab0f8a0c78');\n",
              "        const dataTable =\n",
              "          await google.colab.kernel.invokeFunction('convertToInteractive',\n",
              "                                                    [key], {});\n",
              "        if (!dataTable) return;\n",
              "\n",
              "        const docLinkHtml = 'Like what you see? Visit the ' +\n",
              "          '<a target=\"_blank\" href=https://colab.research.google.com/notebooks/data_table.ipynb>data table notebook</a>'\n",
              "          + ' to learn more about interactive tables.';\n",
              "        element.innerHTML = '';\n",
              "        dataTable['output_type'] = 'display_data';\n",
              "        await google.colab.output.renderOutput(dataTable, element);\n",
              "        const docLink = document.createElement('div');\n",
              "        docLink.innerHTML = docLinkHtml;\n",
              "        element.appendChild(docLink);\n",
              "      }\n",
              "    </script>\n",
              "  </div>\n",
              "\n",
              "\n",
              "    <div id=\"df-b6de2949-1604-4e3d-a95e-d9dd4a378d5f\">\n",
              "      <button class=\"colab-df-quickchart\" onclick=\"quickchart('df-b6de2949-1604-4e3d-a95e-d9dd4a378d5f')\"\n",
              "                title=\"Suggest charts\"\n",
              "                style=\"display:none;\">\n",
              "\n",
              "<svg xmlns=\"http://www.w3.org/2000/svg\" height=\"24px\"viewBox=\"0 0 24 24\"\n",
              "     width=\"24px\">\n",
              "    <g>\n",
              "        <path d=\"M19 3H5c-1.1 0-2 .9-2 2v14c0 1.1.9 2 2 2h14c1.1 0 2-.9 2-2V5c0-1.1-.9-2-2-2zM9 17H7v-7h2v7zm4 0h-2V7h2v10zm4 0h-2v-4h2v4z\"/>\n",
              "    </g>\n",
              "</svg>\n",
              "      </button>\n",
              "\n",
              "<style>\n",
              "  .colab-df-quickchart {\n",
              "      --bg-color: #E8F0FE;\n",
              "      --fill-color: #1967D2;\n",
              "      --hover-bg-color: #E2EBFA;\n",
              "      --hover-fill-color: #174EA6;\n",
              "      --disabled-fill-color: #AAA;\n",
              "      --disabled-bg-color: #DDD;\n",
              "  }\n",
              "\n",
              "  [theme=dark] .colab-df-quickchart {\n",
              "      --bg-color: #3B4455;\n",
              "      --fill-color: #D2E3FC;\n",
              "      --hover-bg-color: #434B5C;\n",
              "      --hover-fill-color: #FFFFFF;\n",
              "      --disabled-bg-color: #3B4455;\n",
              "      --disabled-fill-color: #666;\n",
              "  }\n",
              "\n",
              "  .colab-df-quickchart {\n",
              "    background-color: var(--bg-color);\n",
              "    border: none;\n",
              "    border-radius: 50%;\n",
              "    cursor: pointer;\n",
              "    display: none;\n",
              "    fill: var(--fill-color);\n",
              "    height: 32px;\n",
              "    padding: 0;\n",
              "    width: 32px;\n",
              "  }\n",
              "\n",
              "  .colab-df-quickchart:hover {\n",
              "    background-color: var(--hover-bg-color);\n",
              "    box-shadow: 0 1px 2px rgba(60, 64, 67, 0.3), 0 1px 3px 1px rgba(60, 64, 67, 0.15);\n",
              "    fill: var(--button-hover-fill-color);\n",
              "  }\n",
              "\n",
              "  .colab-df-quickchart-complete:disabled,\n",
              "  .colab-df-quickchart-complete:disabled:hover {\n",
              "    background-color: var(--disabled-bg-color);\n",
              "    fill: var(--disabled-fill-color);\n",
              "    box-shadow: none;\n",
              "  }\n",
              "\n",
              "  .colab-df-spinner {\n",
              "    border: 2px solid var(--fill-color);\n",
              "    border-color: transparent;\n",
              "    border-bottom-color: var(--fill-color);\n",
              "    animation:\n",
              "      spin 1s steps(1) infinite;\n",
              "  }\n",
              "\n",
              "  @keyframes spin {\n",
              "    0% {\n",
              "      border-color: transparent;\n",
              "      border-bottom-color: var(--fill-color);\n",
              "      border-left-color: var(--fill-color);\n",
              "    }\n",
              "    20% {\n",
              "      border-color: transparent;\n",
              "      border-left-color: var(--fill-color);\n",
              "      border-top-color: var(--fill-color);\n",
              "    }\n",
              "    30% {\n",
              "      border-color: transparent;\n",
              "      border-left-color: var(--fill-color);\n",
              "      border-top-color: var(--fill-color);\n",
              "      border-right-color: var(--fill-color);\n",
              "    }\n",
              "    40% {\n",
              "      border-color: transparent;\n",
              "      border-right-color: var(--fill-color);\n",
              "      border-top-color: var(--fill-color);\n",
              "    }\n",
              "    60% {\n",
              "      border-color: transparent;\n",
              "      border-right-color: var(--fill-color);\n",
              "    }\n",
              "    80% {\n",
              "      border-color: transparent;\n",
              "      border-right-color: var(--fill-color);\n",
              "      border-bottom-color: var(--fill-color);\n",
              "    }\n",
              "    90% {\n",
              "      border-color: transparent;\n",
              "      border-bottom-color: var(--fill-color);\n",
              "    }\n",
              "  }\n",
              "</style>\n",
              "\n",
              "      <script>\n",
              "        async function quickchart(key) {\n",
              "          const quickchartButtonEl =\n",
              "            document.querySelector('#' + key + ' button');\n",
              "          quickchartButtonEl.disabled = true;  // To prevent multiple clicks.\n",
              "          quickchartButtonEl.classList.add('colab-df-spinner');\n",
              "          try {\n",
              "            const charts = await google.colab.kernel.invokeFunction(\n",
              "                'suggestCharts', [key], {});\n",
              "          } catch (error) {\n",
              "            console.error('Error during call to suggestCharts:', error);\n",
              "          }\n",
              "          quickchartButtonEl.classList.remove('colab-df-spinner');\n",
              "          quickchartButtonEl.classList.add('colab-df-quickchart-complete');\n",
              "        }\n",
              "        (() => {\n",
              "          let quickchartButtonEl =\n",
              "            document.querySelector('#df-b6de2949-1604-4e3d-a95e-d9dd4a378d5f button');\n",
              "          quickchartButtonEl.style.display =\n",
              "            google.colab.kernel.accessAllowed ? 'block' : 'none';\n",
              "        })();\n",
              "      </script>\n",
              "    </div>\n",
              "\n",
              "  <div id=\"id_ba63c71d-885e-48e0-8245-be768e3df540\">\n",
              "    <style>\n",
              "      .colab-df-generate {\n",
              "        background-color: #E8F0FE;\n",
              "        border: none;\n",
              "        border-radius: 50%;\n",
              "        cursor: pointer;\n",
              "        display: none;\n",
              "        fill: #1967D2;\n",
              "        height: 32px;\n",
              "        padding: 0 0 0 0;\n",
              "        width: 32px;\n",
              "      }\n",
              "\n",
              "      .colab-df-generate:hover {\n",
              "        background-color: #E2EBFA;\n",
              "        box-shadow: 0px 1px 2px rgba(60, 64, 67, 0.3), 0px 1px 3px 1px rgba(60, 64, 67, 0.15);\n",
              "        fill: #174EA6;\n",
              "      }\n",
              "\n",
              "      [theme=dark] .colab-df-generate {\n",
              "        background-color: #3B4455;\n",
              "        fill: #D2E3FC;\n",
              "      }\n",
              "\n",
              "      [theme=dark] .colab-df-generate:hover {\n",
              "        background-color: #434B5C;\n",
              "        box-shadow: 0px 1px 3px 1px rgba(0, 0, 0, 0.15);\n",
              "        filter: drop-shadow(0px 1px 2px rgba(0, 0, 0, 0.3));\n",
              "        fill: #FFFFFF;\n",
              "      }\n",
              "    </style>\n",
              "    <button class=\"colab-df-generate\" onclick=\"generateWithVariable('df')\"\n",
              "            title=\"Generate code using this dataframe.\"\n",
              "            style=\"display:none;\">\n",
              "\n",
              "  <svg xmlns=\"http://www.w3.org/2000/svg\" height=\"24px\"viewBox=\"0 0 24 24\"\n",
              "       width=\"24px\">\n",
              "    <path d=\"M7,19H8.4L18.45,9,17,7.55,7,17.6ZM5,21V16.75L18.45,3.32a2,2,0,0,1,2.83,0l1.4,1.43a1.91,1.91,0,0,1,.58,1.4,1.91,1.91,0,0,1-.58,1.4L9.25,21ZM18.45,9,17,7.55Zm-12,3A5.31,5.31,0,0,0,4.9,8.1,5.31,5.31,0,0,0,1,6.5,5.31,5.31,0,0,0,4.9,4.9,5.31,5.31,0,0,0,6.5,1,5.31,5.31,0,0,0,8.1,4.9,5.31,5.31,0,0,0,12,6.5,5.46,5.46,0,0,0,6.5,12Z\"/>\n",
              "  </svg>\n",
              "    </button>\n",
              "    <script>\n",
              "      (() => {\n",
              "      const buttonEl =\n",
              "        document.querySelector('#id_ba63c71d-885e-48e0-8245-be768e3df540 button.colab-df-generate');\n",
              "      buttonEl.style.display =\n",
              "        google.colab.kernel.accessAllowed ? 'block' : 'none';\n",
              "\n",
              "      buttonEl.onclick = () => {\n",
              "        google.colab.notebook.generateWithVariable('df');\n",
              "      }\n",
              "      })();\n",
              "    </script>\n",
              "  </div>\n",
              "\n",
              "    </div>\n",
              "  </div>\n"
            ],
            "application/vnd.google.colaboratory.intrinsic+json": {
              "type": "dataframe",
              "variable_name": "df",
              "summary": "{\n  \"name\": \"df\",\n  \"rows\": 3,\n  \"fields\": [\n    {\n      \"column\": \"problem\",\n      \"properties\": {\n        \"dtype\": \"string\",\n        \"num_unique_values\": 3,\n        \"samples\": [\n          \"Problem 1\",\n          \"Problem 2\",\n          \"Problem 3\"\n        ],\n        \"semantic_type\": \"\",\n        \"description\": \"\"\n      }\n    },\n    {\n      \"column\": \"normal_result\",\n      \"properties\": {\n        \"dtype\": \"string\",\n        \"num_unique_values\": 3,\n        \"samples\": [\n          \"There are 20 students enrolled in total in the dance class. We start by calculating the number of students enrolled in contemporary dance:\\n\\n1. Current numbers in current and other dances:\\n   - Students in other types: \\\\( 20 - 20\\\\% \\\\times 20 = 20 - 4 = 16 \\\\)\\n   - Total students enrolled: 20\\n\\nSince 20 is twice that number and there are twice as many girls instead of boys, there are:\\n\\n2. Subtract half: \\\\( 20 - 16 = 4 \\\\) girls\\n3. Subtract the\",\n          \"To determine how many cows the farmer has after the transactions, we can follow these steps:\\n\\n1. Start with the initial number of cows the farmer has.\\n2. Add the number of cows he buys.\\n3. Subtract the number of cows he sells.\\n\\nLet's go through the calculations step by step:\\n\\n1. The farmer initially has 10 cows.\\n2. He buys 5 more cows, so we add 5 to the initial number of cows:\\n   \\\\[\\n   10 + 5 = 15\\n   \\\\]\\n3. Then, he sells 6 cows. So, we subtract 6 from\",\n          \"To calculate the average speed of the train, we need to determine the total distance traveled and the total time taken, and then divide the total distance by the total time.\\n\\nGiven:\\n- Distance traveled = 60 miles\\n- Time taken = 1 hour and 30 minutes\\n\\nFirst, let's convert the time into hours:\\n- 1 hour and 30 minutes is equivalent to 1.5 hours.\\n\\nNow, we can calculate the average speed using the formula:\\n\\\\[ \\\\text{Average Speed} = \\\\frac{\\\\text{Total Distance}}{\\\\text{Total Time}} \\\\]\\n\\nSubstituting the given values\"\n        ],\n        \"semantic_type\": \"\",\n        \"description\": \"\"\n      }\n    },\n    {\n      \"column\": \"normal_time\",\n      \"properties\": {\n        \"dtype\": \"number\",\n        \"std\": 2.207416628023687,\n        \"min\": 4.204498403999878,\n        \"max\": 8.32964584299998,\n        \"num_unique_values\": 3,\n        \"samples\": [\n          8.32964584299998,\n          4.204498403999878,\n          4.90492915599998\n        ],\n        \"semantic_type\": \"\",\n        \"description\": \"\"\n      }\n    },\n    {\n      \"column\": \"normal_tokens\",\n      \"properties\": {\n        \"dtype\": \"number\",\n        \"std\": 0,\n        \"min\": 128,\n        \"max\": 128,\n        \"num_unique_values\": 1,\n        \"samples\": [\n          128\n        ],\n        \"semantic_type\": \"\",\n        \"description\": \"\"\n      }\n    },\n    {\n      \"column\": \"cot_result\",\n      \"properties\": {\n        \"dtype\": \"string\",\n        \"num_unique_values\": 3,\n        \"samples\": [\n          \"To determine the percentage of the entire students enrolled in hip-hop dance, we first need to calculate the number of students enrolled in each of the other two dance styles.\\n\\n1. Calculate the number of students enrolled in contemporary dance:\\n   \\\\[\\n   \\\\text{Number of students in contemporary dance} = 20\\\\% \\\\times 20 = 0.20 \\\\times 20 = 4\\n   \\\\]\\n\\n2. Calculate the number of students remaining after subtracting those enrolled in contemporary dance:\\n   \\\\[\\n   \\\\text{Number of students remaining} = 20 - 4 = 16\\n\"\n        ],\n        \"semantic_type\": \"\",\n        \"description\": \"\"\n      }\n    },\n    {\n      \"column\": \"cot_time\",\n      \"properties\": {\n        \"dtype\": \"number\",\n        \"std\": 6.939814643947153,\n        \"min\": 26.160314544999892,\n        \"max\": 39.520446831999834,\n        \"num_unique_values\": 3,\n        \"samples\": [\n          39.520446831999834\n        ],\n        \"semantic_type\": \"\",\n        \"description\": \"\"\n      }\n    },\n    {\n      \"column\": \"cot_tokens\",\n      \"properties\": {\n        \"dtype\": \"number\",\n        \"std\": 11,\n        \"min\": 109,\n        \"max\": 129,\n        \"num_unique_values\": 2,\n        \"samples\": [\n          109\n        ],\n        \"semantic_type\": \"\",\n        \"description\": \"\"\n      }\n    }\n  ]\n}"
            }
          },
          "metadata": {},
          "execution_count": 9
        }
      ]
    },
    {
      "cell_type": "markdown",
      "source": [
        "## 6. Comparativa gráfica"
      ],
      "metadata": {
        "id": "-8cePkJZ93vh"
      },
      "id": "-8cePkJZ93vh"
    },
    {
      "cell_type": "code",
      "source": [
        "# Gráficas de tiempo\n",
        "plt.figure(figsize=(8,4))\n",
        "plt.bar(df[\"problem\"], df[\"normal_time\"], label=\"Normal\", alpha=0.7)\n",
        "plt.bar(df[\"problem\"], df[\"cot_time\"], label=\"Chain-of-Thought\", alpha=0.7)\n",
        "plt.ylabel(\"Tiempo (segundos)\")\n",
        "plt.title(\"Tiempo de inferencia: Normal vs Chain-of-Thought\")\n",
        "plt.legend()\n",
        "plt.show()\n",
        "\n",
        "# Gráficas de tokens generados\n",
        "plt.figure(figsize=(8,4))\n",
        "plt.bar(df[\"problem\"], df[\"normal_tokens\"], label=\"Normal\", alpha=0.7)\n",
        "plt.bar(df[\"problem\"], df[\"cot_tokens\"], label=\"Chain-of-Thought\", alpha=0.7)\n",
        "plt.ylabel(\"Número de tokens generados\")\n",
        "plt.title(\"Tokens generados: Normal vs Chain-of-Thought\")\n",
        "plt.legend()\n",
        "plt.show()\n"
      ],
      "metadata": {
        "colab": {
          "base_uri": "https://localhost:8080/",
          "height": 765
        },
        "id": "-5cm_nxQ9348",
        "outputId": "0ccc92fe-23dc-46fd-ea71-9dc5bbfc5334"
      },
      "id": "-5cm_nxQ9348",
      "execution_count": 10,
      "outputs": [
        {
          "output_type": "display_data",
          "data": {
            "text/plain": [
              "<Figure size 800x400 with 1 Axes>"
            ],
            "image/png": "[encoded data removed]"
          },
          "metadata": {}
        },
        {
          "output_type": "display_data",
          "data": {
            "text/plain": [
              "<Figure size 800x400 with 1 Axes>"
            ],
            "image/png": "[encoded data removed]"
          },
          "metadata": {}
        }
      ]
    },
    {
      "cell_type": "markdown",
      "source": [
        "## 7. Mostrar resultados completos"
      ],
      "metadata": {
        "id": "rZ0G3rVF9_K6"
      },
      "id": "rZ0G3rVF9_K6"
    },
    {
      "cell_type": "code",
      "source": [
        "for i, row in df.iterrows():\n",
        "    print(f\"--- {row['problem']} ---\")\n",
        "    print(\"Inferencia normal:\")\n",
        "    print(row['normal_result'])\n",
        "    print(\"\\nChain-of-Thought:\")\n",
        "    print(row['cot_result'])\n",
        "    print(f\"\\nTiempo normal: {row['normal_time']:.2f}s | CoT: {row['cot_time']:.2f}s\")\n",
        "    print(f\"Tokens normal: {row['normal_tokens']} | Tokens CoT: {row['cot_tokens']}\")\n",
        "    print(\"\\n\" + \"=\"*60 + \"\\n\")\n"
      ],
      "metadata": {
        "colab": {
          "base_uri": "https://localhost:8080/"
        },
        "id": "xvW7B3GJ9_Th",
        "outputId": "0becfb40-cd5d-48b6-e406-945be9f4ca52"
      },
      "id": "xvW7B3GJ9_Th",
      "execution_count": 11,
      "outputs": [
        {
          "output_type": "stream",
          "name": "stdout",
          "text": [
            "--- Problem 1 ---\n",
            "Inferencia normal:\n",
            "There are 20 students enrolled in total in the dance class. We start by calculating the number of students enrolled in contemporary dance:\n",
            "\n",
            "1. Current numbers in current and other dances:\n",
            "   - Students in other types: \\( 20 - 20\\% \\times 20 = 20 - 4 = 16 \\)\n",
            "   - Total students enrolled: 20\n",
            "\n",
            "Since 20 is twice that number and there are twice as many girls instead of boys, there are:\n",
            "\n",
            "2. Subtract half: \\( 20 - 16 = 4 \\) girls\n",
            "3. Subtract the\n",
            "\n",
            "Chain-of-Thought:\n",
            "To determine the percentage of the entire students enrolled in hip-hop dance, we first need to calculate the number of students enrolled in each of the other two dance styles.\n",
            "\n",
            "1. Calculate the number of students enrolled in contemporary dance:\n",
            "   \\[\n",
            "   \\text{Number of students in contemporary dance} = 20\\% \\times 20 = 0.20 \\times 20 = 4\n",
            "   \\]\n",
            "\n",
            "2. Calculate the number of students remaining after subtracting those enrolled in contemporary dance:\n",
            "   \\[\n",
            "   \\text{Number of students remaining} = 20 - 4 = 16\n",
            "\n",
            "\n",
            "Tiempo normal: 8.33s | CoT: 39.52s\n",
            "Tokens normal: 128 | Tokens CoT: 129\n",
            "\n",
            "============================================================\n",
            "\n",
            "--- Problem 2 ---\n",
            "Inferencia normal:\n",
            "To determine how many cows the farmer has after the transactions, we can follow these steps:\n",
            "\n",
            "1. Start with the initial number of cows the farmer has.\n",
            "2. Add the number of cows he buys.\n",
            "3. Subtract the number of cows he sells.\n",
            "\n",
            "Let's go through the calculations step by step:\n",
            "\n",
            "1. The farmer initially has 10 cows.\n",
            "2. He buys 5 more cows, so we add 5 to the initial number of cows:\n",
            "   \\[\n",
            "   10 + 5 = 15\n",
            "   \\]\n",
            "3. Then, he sells 6 cows. So, we subtract 6 from\n",
            "\n",
            "Chain-of-Thought:\n",
            "Sure, let's break it down step by step:\n",
            "\n",
            "1. Initially, the farmer has 10 cows.\n",
            "2. He buys 5 more cows, so he now has:\n",
            "   \\[\n",
            "   10 + 5 = 15 \\text{ cows}\n",
            "   \\]\n",
            "3. Then, he sells 6 cows, so he now has:\n",
            "   \\[\n",
            "   15 - 6 = 9 \\text{ cows}\n",
            "   \\]\n",
            "\n",
            "So, the final number of cows the farmer has is 9.\n",
            "\n",
            "Tiempo normal: 4.20s | CoT: 26.16s\n",
            "Tokens normal: 128 | Tokens CoT: 109\n",
            "\n",
            "============================================================\n",
            "\n",
            "--- Problem 3 ---\n",
            "Inferencia normal:\n",
            "To calculate the average speed of the train, we need to determine the total distance traveled and the total time taken, and then divide the total distance by the total time.\n",
            "\n",
            "Given:\n",
            "- Distance traveled = 60 miles\n",
            "- Time taken = 1 hour and 30 minutes\n",
            "\n",
            "First, let's convert the time into hours:\n",
            "- 1 hour and 30 minutes is equivalent to 1.5 hours.\n",
            "\n",
            "Now, we can calculate the average speed using the formula:\n",
            "\\[ \\text{Average Speed} = \\frac{\\text{Total Distance}}{\\text{Total Time}} \\]\n",
            "\n",
            "Substituting the given values\n",
            "\n",
            "Chain-of-Thought:\n",
            "Average speed is calculated by dividing the total distance traveled by the total time taken to travel that distance. In this case, the total distance is 60 miles, and the total time is 60 minutes (or 1 hour and 30 minutes).\n",
            "\n",
            "So, we can calculate the average speed as follows:\n",
            "\n",
            "\\[\n",
            "\\text{Average speed} = \\frac{\\text{Total distance}}{\\text{Total time}} = \\frac{60 \\text{ miles}}{1 \\text{ hour} \\times 60 \\text{ minutes}} = \\frac{60}{60} = 1 \\\n",
            "\n",
            "Tiempo normal: 4.90s | CoT: 36.10s\n",
            "Tokens normal: 128 | Tokens CoT: 129\n",
            "\n",
            "============================================================\n",
            "\n"
          ]
        }
      ]
    }
  ],
  "metadata": {
    "kernelspec": {
      "name": "python3",
      "display_name": "Python 3"
    },
    "language_info": {
      "name": "python",
      "pygments_lexer": "ipython3"
    },
    "colab": {
      "provenance": [],
      "gpuType": "T4"
    },
    "accelerator": "GPU"
  },
  "nbformat": 4,
  "nbformat_minor": 5
}